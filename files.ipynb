{
 "cells": [
  {
   "cell_type": "code",
   "execution_count": 1,
   "metadata": {
    "collapsed": true
   },
   "outputs": [],
   "source": [
    "f=open('data.csv','r')\n",
    "data = f.read()"
   ]
  },
  {
   "cell_type": "code",
   "execution_count": 2,
   "metadata": {
    "collapsed": false
   },
   "outputs": [
    {
     "data": {
      "text/plain": [
       "'id,name,salary,address\\n1,name1,1234,ad1\\n2,name2,4567,ad2\\n3,name3,8910,ad1\\n4,name4,111213,ad2\\n5,name5,1235,ad2\\n6,name6,4568,ad3\\n7,name7,8911,ad2\\n8,name8,111214,ad3\\n9,name9,1236,ad3\\n10,name10,4569,ad4\\n11,name11,8912,ad3\\n12,name12,111215,ad4\\n13,name13,1237,ad4\\n14,name14,4570,ad5\\n15,name15,8913,ad4\\n16,name16,111216,ad5\\n17,name17,1238,ad5\\n18,name18,4571,ad6\\n19,name19,8914,ad5\\n20,name20,111217,ad6\\n21,name21,1239,ad6\\n22,name22,4572,ad7\\n23,name23,8915,ad6\\n24,name24,111218,ad7\\n25,name25,1240,ad7\\n26,name26,4573,ad8\\n27,name27,8916,ad7\\n28,name28,111219,ad8\\n29,name29,1241,ad8\\n30,name30,4574,ad9\\n31,name31,8917,ad8\\n'"
      ]
     },
     "execution_count": 2,
     "metadata": {},
     "output_type": "execute_result"
    }
   ],
   "source": [
    "data"
   ]
  },
  {
   "cell_type": "code",
   "execution_count": 3,
   "metadata": {
    "collapsed": false
   },
   "outputs": [
    {
     "data": {
      "text/plain": [
       "str"
      ]
     },
     "execution_count": 3,
     "metadata": {},
     "output_type": "execute_result"
    }
   ],
   "source": [
    "type(data)"
   ]
  },
  {
   "cell_type": "code",
   "execution_count": 4,
   "metadata": {
    "collapsed": false
   },
   "outputs": [
    {
     "name": "stdout",
     "output_type": "stream",
     "text": [
      "id,name,salary,address\n",
      "1,name1,1234,ad1\n",
      "2,name2,4567,ad2\n",
      "3,name3,8910,ad1\n",
      "4,name4,111213,ad2\n",
      "5,name5,1235,ad2\n",
      "6,name6,4568,ad3\n",
      "7,name7,8911,ad2\n",
      "8,name8,111214,ad3\n",
      "9,name9,1236,ad3\n",
      "10,name10,4569,ad4\n",
      "11,name11,8912,ad3\n",
      "12,name12,111215,ad4\n",
      "13,name13,1237,ad4\n",
      "14,name14,4570,ad5\n",
      "15,name15,8913,ad4\n",
      "16,name16,111216,ad5\n",
      "17,name17,1238,ad5\n",
      "18,name18,4571,ad6\n",
      "19,name19,8914,ad5\n",
      "20,name20,111217,ad6\n",
      "21,name21,1239,ad6\n",
      "22,name22,4572,ad7\n",
      "23,name23,8915,ad6\n",
      "24,name24,111218,ad7\n",
      "25,name25,1240,ad7\n",
      "26,name26,4573,ad8\n",
      "27,name27,8916,ad7\n",
      "28,name28,111219,ad8\n",
      "29,name29,1241,ad8\n",
      "30,name30,4574,ad9\n",
      "31,name31,8917,ad8\n",
      "\n"
     ]
    }
   ],
   "source": [
    "print data"
   ]
  },
  {
   "cell_type": "code",
   "execution_count": 8,
   "metadata": {
    "collapsed": false
   },
   "outputs": [],
   "source": [
    "data_list = data.split('\\n')"
   ]
  },
  {
   "cell_type": "code",
   "execution_count": 6,
   "metadata": {
    "collapsed": false
   },
   "outputs": [
    {
     "name": "stdout",
     "output_type": "stream",
     "text": [
      "i\n"
     ]
    }
   ],
   "source": [
    "for i in data:\n",
    "    print i\n",
    "    break"
   ]
  },
  {
   "cell_type": "code",
   "execution_count": 10,
   "metadata": {
    "collapsed": false
   },
   "outputs": [
    {
     "name": "stdout",
     "output_type": "stream",
     "text": [
      "id,name,salary,address\n",
      "1,name1,1234,ad1\n",
      "2,name2,4567,ad2\n",
      "3,name3,8910,ad1\n",
      "4,name4,111213,ad2\n",
      "5,name5,1235,ad2\n",
      "6,name6,4568,ad3\n",
      "7,name7,8911,ad2\n",
      "8,name8,111214,ad3\n",
      "9,name9,1236,ad3\n",
      "10,name10,4569,ad4\n",
      "11,name11,8912,ad3\n",
      "12,name12,111215,ad4\n",
      "13,name13,1237,ad4\n",
      "14,name14,4570,ad5\n",
      "15,name15,8913,ad4\n",
      "16,name16,111216,ad5\n",
      "17,name17,1238,ad5\n",
      "18,name18,4571,ad6\n",
      "19,name19,8914,ad5\n",
      "20,name20,111217,ad6\n",
      "21,name21,1239,ad6\n",
      "22,name22,4572,ad7\n",
      "23,name23,8915,ad6\n",
      "24,name24,111218,ad7\n",
      "25,name25,1240,ad7\n",
      "26,name26,4573,ad8\n",
      "27,name27,8916,ad7\n",
      "28,name28,111219,ad8\n",
      "29,name29,1241,ad8\n",
      "30,name30,4574,ad9\n",
      "31,name31,8917,ad8\n",
      "\n"
     ]
    }
   ],
   "source": [
    "for i in data_list:\n",
    "    print i"
   ]
  },
  {
   "cell_type": "code",
   "execution_count": 11,
   "metadata": {
    "collapsed": false
   },
   "outputs": [
    {
     "name": "stdout",
     "output_type": "stream",
     "text": [
      "['id', 'name', 'salary', 'address']\n",
      "['1', 'name1', '1234', 'ad1']\n",
      "['2', 'name2', '4567', 'ad2']\n",
      "['3', 'name3', '8910', 'ad1']\n",
      "['4', 'name4', '111213', 'ad2']\n",
      "['5', 'name5', '1235', 'ad2']\n",
      "['6', 'name6', '4568', 'ad3']\n",
      "['7', 'name7', '8911', 'ad2']\n",
      "['8', 'name8', '111214', 'ad3']\n",
      "['9', 'name9', '1236', 'ad3']\n",
      "['10', 'name10', '4569', 'ad4']\n",
      "['11', 'name11', '8912', 'ad3']\n",
      "['12', 'name12', '111215', 'ad4']\n",
      "['13', 'name13', '1237', 'ad4']\n",
      "['14', 'name14', '4570', 'ad5']\n",
      "['15', 'name15', '8913', 'ad4']\n",
      "['16', 'name16', '111216', 'ad5']\n",
      "['17', 'name17', '1238', 'ad5']\n",
      "['18', 'name18', '4571', 'ad6']\n",
      "['19', 'name19', '8914', 'ad5']\n",
      "['20', 'name20', '111217', 'ad6']\n",
      "['21', 'name21', '1239', 'ad6']\n",
      "['22', 'name22', '4572', 'ad7']\n",
      "['23', 'name23', '8915', 'ad6']\n",
      "['24', 'name24', '111218', 'ad7']\n",
      "['25', 'name25', '1240', 'ad7']\n",
      "['26', 'name26', '4573', 'ad8']\n",
      "['27', 'name27', '8916', 'ad7']\n",
      "['28', 'name28', '111219', 'ad8']\n",
      "['29', 'name29', '1241', 'ad8']\n",
      "['30', 'name30', '4574', 'ad9']\n",
      "['31', 'name31', '8917', 'ad8']\n",
      "['']\n"
     ]
    }
   ],
   "source": [
    "for i in data_list:\n",
    "    print i.split(',')"
   ]
  },
  {
   "cell_type": "code",
   "execution_count": 12,
   "metadata": {
    "collapsed": false
   },
   "outputs": [
    {
     "name": "stdout",
     "output_type": "stream",
     "text": [
      "name\n",
      "name1\n",
      "name2\n",
      "name3\n",
      "name4\n",
      "name5\n",
      "name6\n",
      "name7\n",
      "name8\n",
      "name9\n",
      "name10\n",
      "name11\n",
      "name12\n",
      "name13\n",
      "name14\n",
      "name15\n",
      "name16\n",
      "name17\n",
      "name18\n",
      "name19\n",
      "name20\n",
      "name21\n",
      "name22\n",
      "name23\n",
      "name24\n",
      "name25\n",
      "name26\n",
      "name27\n",
      "name28\n",
      "name29\n",
      "name30\n",
      "name31\n"
     ]
    },
    {
     "ename": "IndexError",
     "evalue": "list index out of range",
     "output_type": "error",
     "traceback": [
      "\u001b[1;31m---------------------------------------------------------------------------\u001b[0m",
      "\u001b[1;31mIndexError\u001b[0m                                Traceback (most recent call last)",
      "\u001b[1;32m<ipython-input-12-76abb529da67>\u001b[0m in \u001b[0;36m<module>\u001b[1;34m()\u001b[0m\n\u001b[0;32m      1\u001b[0m \u001b[1;32mfor\u001b[0m \u001b[0mi\u001b[0m \u001b[1;32min\u001b[0m \u001b[0mdata_list\u001b[0m\u001b[1;33m:\u001b[0m\u001b[1;33m\u001b[0m\u001b[0m\n\u001b[1;32m----> 2\u001b[1;33m     \u001b[1;32mprint\u001b[0m \u001b[0mi\u001b[0m\u001b[1;33m.\u001b[0m\u001b[0msplit\u001b[0m\u001b[1;33m(\u001b[0m\u001b[1;34m','\u001b[0m\u001b[1;33m)\u001b[0m\u001b[1;33m[\u001b[0m\u001b[1;36m1\u001b[0m\u001b[1;33m]\u001b[0m\u001b[1;33m\u001b[0m\u001b[0m\n\u001b[0m",
      "\u001b[1;31mIndexError\u001b[0m: list index out of range"
     ]
    }
   ],
   "source": [
    "for i in data_list:\n",
    "    print i.split(',')[1]"
   ]
  },
  {
   "cell_type": "code",
   "execution_count": 13,
   "metadata": {
    "collapsed": false
   },
   "outputs": [
    {
     "name": "stdout",
     "output_type": "stream",
     "text": [
      "name\n",
      "name1\n",
      "name2\n",
      "name3\n",
      "name4\n",
      "name5\n",
      "name6\n",
      "name7\n",
      "name8\n",
      "name9\n",
      "name10\n",
      "name11\n",
      "name12\n",
      "name13\n",
      "name14\n",
      "name15\n",
      "name16\n",
      "name17\n",
      "name18\n",
      "name19\n",
      "name20\n",
      "name21\n",
      "name22\n",
      "name23\n",
      "name24\n",
      "name25\n",
      "name26\n",
      "name27\n",
      "name28\n",
      "name29\n",
      "name30\n",
      "name31\n"
     ]
    }
   ],
   "source": [
    "for i in data_list:\n",
    "    values_record = i.split(',')\n",
    "    if len(values_record)>=2:\n",
    "        print values_record[1]\n",
    "        "
   ]
  },
  {
   "cell_type": "code",
   "execution_count": 15,
   "metadata": {
    "collapsed": false
   },
   "outputs": [
    {
     "name": "stdout",
     "output_type": "stream",
     "text": [
      "name1\n",
      "name2\n",
      "name3\n",
      "name4\n",
      "name5\n",
      "name6\n",
      "name7\n",
      "name8\n",
      "name9\n",
      "name10\n",
      "name11\n",
      "name12\n",
      "name13\n",
      "name14\n",
      "name15\n",
      "name16\n",
      "name17\n",
      "name18\n",
      "name19\n",
      "name20\n",
      "name21\n",
      "name22\n",
      "name23\n",
      "name24\n",
      "name25\n",
      "name26\n",
      "name27\n",
      "name28\n",
      "name29\n",
      "name30\n",
      "name31\n"
     ]
    }
   ],
   "source": [
    "for i in data_list[1:]:\n",
    "    values_record = i.split(',')\n",
    "    if len(values_record)>=2:\n",
    "        print values_record[1]\n",
    "        "
   ]
  },
  {
   "cell_type": "code",
   "execution_count": 21,
   "metadata": {
    "collapsed": false
   },
   "outputs": [
    {
     "data": {
      "text/plain": [
       "[{'address': 'ad1', 'id': '1', 'name': 'name1', 'salary': '1234'},\n",
       " {'address': 'ad2', 'id': '2', 'name': 'name2', 'salary': '4567'},\n",
       " {'address': 'ad1', 'id': '3', 'name': 'name3', 'salary': '8910'},\n",
       " {'address': 'ad2', 'id': '4', 'name': 'name4', 'salary': '111213'},\n",
       " {'address': 'ad2', 'id': '5', 'name': 'name5', 'salary': '1235'},\n",
       " {'address': 'ad3', 'id': '6', 'name': 'name6', 'salary': '4568'},\n",
       " {'address': 'ad2', 'id': '7', 'name': 'name7', 'salary': '8911'},\n",
       " {'address': 'ad3', 'id': '8', 'name': 'name8', 'salary': '111214'},\n",
       " {'address': 'ad3', 'id': '9', 'name': 'name9', 'salary': '1236'},\n",
       " {'address': 'ad4', 'id': '10', 'name': 'name10', 'salary': '4569'},\n",
       " {'address': 'ad3', 'id': '11', 'name': 'name11', 'salary': '8912'},\n",
       " {'address': 'ad4', 'id': '12', 'name': 'name12', 'salary': '111215'},\n",
       " {'address': 'ad4', 'id': '13', 'name': 'name13', 'salary': '1237'},\n",
       " {'address': 'ad5', 'id': '14', 'name': 'name14', 'salary': '4570'},\n",
       " {'address': 'ad4', 'id': '15', 'name': 'name15', 'salary': '8913'},\n",
       " {'address': 'ad5', 'id': '16', 'name': 'name16', 'salary': '111216'},\n",
       " {'address': 'ad5', 'id': '17', 'name': 'name17', 'salary': '1238'},\n",
       " {'address': 'ad6', 'id': '18', 'name': 'name18', 'salary': '4571'},\n",
       " {'address': 'ad5', 'id': '19', 'name': 'name19', 'salary': '8914'},\n",
       " {'address': 'ad6', 'id': '20', 'name': 'name20', 'salary': '111217'},\n",
       " {'address': 'ad6', 'id': '21', 'name': 'name21', 'salary': '1239'},\n",
       " {'address': 'ad7', 'id': '22', 'name': 'name22', 'salary': '4572'},\n",
       " {'address': 'ad6', 'id': '23', 'name': 'name23', 'salary': '8915'},\n",
       " {'address': 'ad7', 'id': '24', 'name': 'name24', 'salary': '111218'},\n",
       " {'address': 'ad7', 'id': '25', 'name': 'name25', 'salary': '1240'},\n",
       " {'address': 'ad8', 'id': '26', 'name': 'name26', 'salary': '4573'},\n",
       " {'address': 'ad7', 'id': '27', 'name': 'name27', 'salary': '8916'},\n",
       " {'address': 'ad8', 'id': '28', 'name': 'name28', 'salary': '111219'},\n",
       " {'address': 'ad8', 'id': '29', 'name': 'name29', 'salary': '1241'},\n",
       " {'address': 'ad9', 'id': '30', 'name': 'name30', 'salary': '4574'},\n",
       " {'address': 'ad8', 'id': '31', 'name': 'name31', 'salary': '8917'}]"
      ]
     },
     "execution_count": 21,
     "metadata": {},
     "output_type": "execute_result"
    }
   ],
   "source": [
    "#[{'id':1,'name':'name1'},{'id':2,'name':'name2'}]\n",
    "f=open('data.csv','r')\n",
    "data = f.readlines()\n",
    "keys = data[0].strip('\\n').split(',')\n",
    "persons = []\n",
    "for i in data[1:]:\n",
    "    i = i.strip('\\n')\n",
    "    persons.append(dict(zip(keys,i.split(','))))\n",
    "persons   \n",
    "    \n",
    "    "
   ]
  },
  {
   "cell_type": "code",
   "execution_count": 23,
   "metadata": {
    "collapsed": false
   },
   "outputs": [
    {
     "name": "stdout",
     "output_type": "stream",
     "text": [
      "[{'salary': '1234', 'address': 'ad1', 'id': '1', 'name': 'name1'}, {'salary': '4567', 'address': 'ad2', 'id': '2', 'name': 'name2'}, {'salary': '8910', 'address': 'ad1', 'id': '3', 'name': 'name3'}, {'salary': '111213', 'address': 'ad2', 'id': '4', 'name': 'name4'}, {'salary': '1235', 'address': 'ad2', 'id': '5', 'name': 'name5'}, {'salary': '4568', 'address': 'ad3', 'id': '6', 'name': 'name6'}, {'salary': '8911', 'address': 'ad2', 'id': '7', 'name': 'name7'}, {'salary': '111214', 'address': 'ad3', 'id': '8', 'name': 'name8'}, {'salary': '1236', 'address': 'ad3', 'id': '9', 'name': 'name9'}, {'salary': '4569', 'address': 'ad4', 'id': '10', 'name': 'name10'}, {'salary': '8912', 'address': 'ad3', 'id': '11', 'name': 'name11'}, {'salary': '111215', 'address': 'ad4', 'id': '12', 'name': 'name12'}, {'salary': '1237', 'address': 'ad4', 'id': '13', 'name': 'name13'}, {'salary': '4570', 'address': 'ad5', 'id': '14', 'name': 'name14'}, {'salary': '8913', 'address': 'ad4', 'id': '15', 'name': 'name15'}, {'salary': '111216', 'address': 'ad5', 'id': '16', 'name': 'name16'}, {'salary': '1238', 'address': 'ad5', 'id': '17', 'name': 'name17'}, {'salary': '4571', 'address': 'ad6', 'id': '18', 'name': 'name18'}, {'salary': '8914', 'address': 'ad5', 'id': '19', 'name': 'name19'}, {'salary': '111217', 'address': 'ad6', 'id': '20', 'name': 'name20'}, {'salary': '1239', 'address': 'ad6', 'id': '21', 'name': 'name21'}, {'salary': '4572', 'address': 'ad7', 'id': '22', 'name': 'name22'}, {'salary': '8915', 'address': 'ad6', 'id': '23', 'name': 'name23'}, {'salary': '111218', 'address': 'ad7', 'id': '24', 'name': 'name24'}, {'salary': '1240', 'address': 'ad7', 'id': '25', 'name': 'name25'}, {'salary': '4573', 'address': 'ad8', 'id': '26', 'name': 'name26'}, {'salary': '8916', 'address': 'ad7', 'id': '27', 'name': 'name27'}, {'salary': '111219', 'address': 'ad8', 'id': '28', 'name': 'name28'}, {'salary': '1241', 'address': 'ad8', 'id': '29', 'name': 'name29'}, {'salary': '4574', 'address': 'ad9', 'id': '30', 'name': 'name30'}, {'salary': '8917', 'address': 'ad8', 'id': '31', 'name': 'name31'}]\n"
     ]
    }
   ],
   "source": [
    "#[{'id':1,'name':'name1'},{'id':2,'name':'name2'}]\n",
    "f=open('data.csv','r')\n",
    "data = f.readlines()\n",
    "data = map(lambda rec:rec.strip('\\n'),data)\n",
    "keys = data[0].split(',')\n",
    "print [dict(zip(keys,rec.split(','))) for rec in data[1:]]"
   ]
  },
  {
   "cell_type": "code",
   "execution_count": 24,
   "metadata": {
    "collapsed": false
   },
   "outputs": [
    {
     "name": "stdout",
     "output_type": "stream",
     "text": [
      "[{'': ''}, {'': 'address'}, {'': 'ad1'}, {'': 'ad2'}, {'': 'ad1'}, {'': 'ad2'}, {'': 'ad2'}, {'': 'ad3'}, {'': 'ad2'}, {'': 'ad3'}, {'': 'ad3'}, {'': 'ad4'}, {'': 'ad3'}, {'': 'ad4'}, {'': 'ad4'}, {'': 'ad5'}, {'': 'ad4'}, {'': 'ad5'}, {'': 'ad5'}, {'': 'ad6'}, {'': 'ad5'}, {'': 'ad6'}, {'': 'ad6'}, {'': 'ad7'}, {'': 'ad6'}, {'': 'ad7'}, {'': 'ad7'}, {'': 'ad8'}, {'': 'ad7'}, {'': 'ad8'}, {'': 'ad8'}, {'': 'ad9'}, {'': 'ad8'}]\n"
     ]
    }
   ],
   "source": [
    "#[{'id':1,'name':'name1'},{'id':2,'name':'name2'}]\n",
    "f=open('data.csv','r')\n",
    "data = f.readlines()\n",
    "data = map(lambda rec:rec.strip('\\n'),data)\n",
    "keys = data[0].split(',')\n",
    "print [dict(zip(keys,rec.split(','))) for rec in data[1:]]"
   ]
  },
  {
   "cell_type": "code",
   "execution_count": 27,
   "metadata": {
    "collapsed": false
   },
   "outputs": [
    {
     "name": "stdout",
     "output_type": "stream",
     "text": [
      ",,,\n",
      "\n",
      "[{'': ''}, {'': 'address'}, {'': 'ad1'}, {'': 'ad2'}, {'': 'ad1'}, {'': 'ad2'}, {'': 'ad2'}, {'': 'ad3'}, {'': 'ad2'}, {'': 'ad3'}, {'': 'ad3'}, {'': 'ad4'}, {'': 'ad3'}, {'': 'ad4'}, {'': 'ad4'}, {'': 'ad5'}, {'': 'ad4'}, {'': 'ad5'}, {'': 'ad5'}, {'': 'ad6'}, {'': 'ad5'}, {'': 'ad6'}, {'': 'ad6'}, {'': 'ad7'}, {'': 'ad6'}, {'': 'ad7'}, {'': 'ad7'}, {'': 'ad8'}, {'': 'ad7'}, {'': 'ad8'}, {'': 'ad8'}, {'': 'ad9'}, {'': 'ad8'}]\n"
     ]
    }
   ],
   "source": [
    "#[{'id':1,'name':'name1'},{'id':2,'name':'name2'}]\n",
    "f=open('data.csv','r')\n",
    "data = f.readlines()\n",
    "for i in data:\n",
    "    print i\n",
    "    if not i:\n",
    "        print i\n",
    "        data.pop(0)\n",
    "    else:\n",
    "        break\n",
    "data = map(lambda rec:rec.strip('\\n'),data)\n",
    "keys = data[0].split(',')\n",
    "print [dict(zip(keys,rec.split(','))) for rec in data[1:]]"
   ]
  },
  {
   "cell_type": "code",
   "execution_count": 28,
   "metadata": {
    "collapsed": true
   },
   "outputs": [],
   "source": [
    "if []:\n",
    "    print \"sdfsdfsdf\""
   ]
  },
  {
   "cell_type": "code",
   "execution_count": 29,
   "metadata": {
    "collapsed": false
   },
   "outputs": [
    {
     "name": "stdout",
     "output_type": "stream",
     "text": [
      "sdfsdfsd\n"
     ]
    }
   ],
   "source": [
    "if ['']:\n",
    "    print \"sdfsdfsd\""
   ]
  },
  {
   "cell_type": "code",
   "execution_count": 30,
   "metadata": {
    "collapsed": false
   },
   "outputs": [
    {
     "name": "stdout",
     "output_type": "stream",
     "text": [
      "[',,,\\n', ',,,\\n', 'id,name,salary,address\\n', '1,name1,1234,ad1\\n', '2,name2,4567,ad2\\n', '3,name3,8910,ad1\\n', '4,name4,111213,ad2\\n', '5,name5,1235,ad2\\n', '6,name6,4568,ad3\\n', '7,name7,8911,ad2\\n', '8,name8,111214,ad3\\n', '9,name9,1236,ad3\\n', '10,name10,4569,ad4\\n', '11,name11,8912,ad3\\n', '12,name12,111215,ad4\\n', '13,name13,1237,ad4\\n', '14,name14,4570,ad5\\n', '15,name15,8913,ad4\\n', '16,name16,111216,ad5\\n', '17,name17,1238,ad5\\n', '18,name18,4571,ad6\\n', '19,name19,8914,ad5\\n', '20,name20,111217,ad6\\n', '21,name21,1239,ad6\\n', '22,name22,4572,ad7\\n', '23,name23,8915,ad6\\n', '24,name24,111218,ad7\\n', '25,name25,1240,ad7\\n', '26,name26,4573,ad8\\n', '27,name27,8916,ad7\\n', '28,name28,111219,ad8\\n', '29,name29,1241,ad8\\n', '30,name30,4574,ad9\\n', '31,name31,8917,ad8\\n']\n"
     ]
    }
   ],
   "source": [
    "f=open('data.csv','r')\n",
    "data = f.readlines()\n",
    "print data"
   ]
  },
  {
   "cell_type": "code",
   "execution_count": 36,
   "metadata": {
    "collapsed": false
   },
   "outputs": [
    {
     "name": "stdout",
     "output_type": "stream",
     "text": [
      ",,,\n",
      "\n",
      "[{'': 'address'}, {'': 'ad1'}, {'': 'ad2'}, {'': 'ad1'}, {'': 'ad2'}, {'': 'ad2'}, {'': 'ad3'}, {'': 'ad2'}, {'': 'ad3'}, {'': 'ad3'}, {'': 'ad4'}, {'': 'ad3'}, {'': 'ad4'}, {'': 'ad4'}, {'': 'ad5'}, {'': 'ad4'}, {'': 'ad5'}, {'': 'ad5'}, {'': 'ad6'}, {'': 'ad5'}, {'': 'ad6'}, {'': 'ad6'}, {'': 'ad7'}, {'': 'ad6'}, {'': 'ad7'}, {'': 'ad7'}, {'': 'ad8'}, {'': 'ad7'}, {'': 'ad8'}, {'': 'ad8'}, {'': 'ad9'}, {'': 'ad8'}]\n"
     ]
    }
   ],
   "source": [
    "#[{'id':1,'name':'name1'},{'id':2,'name':'name2'}]\n",
    "f=open('data.csv','r')\n",
    "data = f.readlines()\n",
    "for i in data:\n",
    "    if i==\",,,\\n\":\n",
    "        print i\n",
    "        data.pop(0)\n",
    "    else:\n",
    "        break\n",
    "data = map(lambda rec:rec.strip('\\n'),data)\n",
    "keys = data[0].split(',')\n",
    "print [dict(zip(keys,rec.split(','))) for rec in data[1:]]"
   ]
  },
  {
   "cell_type": "code",
   "execution_count": 39,
   "metadata": {
    "collapsed": false
   },
   "outputs": [
    {
     "name": "stdout",
     "output_type": "stream",
     "text": [
      "1\n",
      "[2, 3, 4]\n",
      "3\n",
      "[3, 4]\n"
     ]
    }
   ],
   "source": [
    "data=[1,2,3,4]\n",
    "for i in data:\n",
    "    print i\n",
    "    data.pop(0)\n",
    "    print data\n"
   ]
  },
  {
   "cell_type": "code",
   "execution_count": 41,
   "metadata": {
    "collapsed": false
   },
   "outputs": [
    {
     "name": "stdout",
     "output_type": "stream",
     "text": [
      "[{'salary': '1234', 'address': 'ad1', 'id': '1', 'name': 'name1'}, {'salary': '4567', 'address': 'ad2', 'id': '2', 'name': 'name2'}, {'salary': '8910', 'address': 'ad1', 'id': '3', 'name': 'name3'}, {'salary': '111213', 'address': 'ad2', 'id': '4', 'name': 'name4'}, {'salary': '1235', 'address': 'ad2', 'id': '5', 'name': 'name5'}, {'salary': '4568', 'address': 'ad3', 'id': '6', 'name': 'name6'}, {'salary': '8911', 'address': 'ad2', 'id': '7', 'name': 'name7'}, {'salary': '111214', 'address': 'ad3', 'id': '8', 'name': 'name8'}, {'salary': '1236', 'address': 'ad3', 'id': '9', 'name': 'name9'}, {'salary': '4569', 'address': 'ad4', 'id': '10', 'name': 'name10'}, {'salary': '8912', 'address': 'ad3', 'id': '11', 'name': 'name11'}, {'salary': '111215', 'address': 'ad4', 'id': '12', 'name': 'name12'}, {'salary': '1237', 'address': 'ad4', 'id': '13', 'name': 'name13'}, {'salary': '4570', 'address': 'ad5', 'id': '14', 'name': 'name14'}, {'salary': '8913', 'address': 'ad4', 'id': '15', 'name': 'name15'}, {'salary': '111216', 'address': 'ad5', 'id': '16', 'name': 'name16'}, {'salary': '1238', 'address': 'ad5', 'id': '17', 'name': 'name17'}, {'salary': '4571', 'address': 'ad6', 'id': '18', 'name': 'name18'}, {'salary': '8914', 'address': 'ad5', 'id': '19', 'name': 'name19'}, {'salary': '111217', 'address': 'ad6', 'id': '20', 'name': 'name20'}, {'salary': '1239', 'address': 'ad6', 'id': '21', 'name': 'name21'}, {'salary': '4572', 'address': 'ad7', 'id': '22', 'name': 'name22'}, {'salary': '8915', 'address': 'ad6', 'id': '23', 'name': 'name23'}, {'salary': '111218', 'address': 'ad7', 'id': '24', 'name': 'name24'}, {'salary': '1240', 'address': 'ad7', 'id': '25', 'name': 'name25'}, {'salary': '4573', 'address': 'ad8', 'id': '26', 'name': 'name26'}, {'salary': '8916', 'address': 'ad7', 'id': '27', 'name': 'name27'}, {'salary': '111219', 'address': 'ad8', 'id': '28', 'name': 'name28'}, {'salary': '1241', 'address': 'ad8', 'id': '29', 'name': 'name29'}, {'salary': '4574', 'address': 'ad9', 'id': '30', 'name': 'name30'}, {'salary': '8917', 'address': 'ad8', 'id': '31', 'name': 'name31'}]\n"
     ]
    }
   ],
   "source": [
    "#[{'id':1,'name':'name1'},{'id':2,'name':'name2'}]\n",
    "f=open('data.csv','r')\n",
    "data = f.readlines()\n",
    "count = 0\n",
    "for i in data:\n",
    "    if i==\",,,\\n\":\n",
    "        count = count+1\n",
    "    else:\n",
    "        break\n",
    "data = data[count:]\n",
    "data = map(lambda rec:rec.strip('\\n'),data)\n",
    "keys = data[0].split(',')\n",
    "print [dict(zip(keys,rec.split(','))) for rec in data[1:]]"
   ]
  },
  {
   "cell_type": "code",
   "execution_count": 44,
   "metadata": {
    "collapsed": false
   },
   "outputs": [
    {
     "name": "stdout",
     "output_type": "stream",
     "text": [
      "[0, 0]\n",
      "[{'': ''}, {'': 'address'}, {'': 'ad1'}, {'': 'ad2'}, {'': 'ad1'}, {'': 'ad2'}, {'': 'ad2'}, {'': 'ad3'}, {'': 'ad2'}, {'': 'ad3'}, {'': 'ad3'}, {'': 'ad4'}, {'': 'ad3'}, {'': 'ad4'}, {'': 'ad4'}, {'': 'ad5'}, {'': 'ad4'}, {'': 'ad5'}, {'': 'ad5'}, {'': 'ad6'}, {'': 'ad5'}, {'': 'ad6'}, {'': 'ad6'}, {'': 'ad7'}, {'': 'ad6'}, {'': 'ad7'}, {'': 'ad7'}, {'': 'ad8'}, {'': 'ad7'}, {'': 'ad8'}, {'': 'ad8'}, {'': 'ad9'}, {'': 'ad8'}]\n"
     ]
    }
   ],
   "source": [
    "#[{'id':1,'name':'name1'},{'id':2,'name':'name2'}]\n",
    "f=open('data.csv','r')\n",
    "data = f.readlines()\n",
    "for rec in data:\n",
    "    \n",
    "print wrong_data_position\n",
    "data = map(lambda rec:rec.strip('\\n'),data)\n",
    "keys = data[0].split(',')\n",
    "print [dict(zip(keys,rec.split(','))) for rec in data[1:]]"
   ]
  },
  {
   "cell_type": "code",
   "execution_count": 46,
   "metadata": {
    "collapsed": false
   },
   "outputs": [
    {
     "data": {
      "text/plain": [
       "<enumerate at 0x7f3b593a2f50>"
      ]
     },
     "execution_count": 46,
     "metadata": {},
     "output_type": "execute_result"
    }
   ],
   "source": [
    "enumerate(data)"
   ]
  },
  {
   "cell_type": "code",
   "execution_count": 47,
   "metadata": {
    "collapsed": false
   },
   "outputs": [
    {
     "name": "stdout",
     "output_type": "stream",
     "text": [
      "(0, ',,,')\n",
      "(1, ',,,')\n",
      "(2, 'id,name,salary,address')\n",
      "(3, '1,name1,1234,ad1')\n",
      "(4, '2,name2,4567,ad2')\n",
      "(5, '3,name3,8910,ad1')\n",
      "(6, '4,name4,111213,ad2')\n",
      "(7, '5,name5,1235,ad2')\n",
      "(8, '6,name6,4568,ad3')\n",
      "(9, '7,name7,8911,ad2')\n",
      "(10, '8,name8,111214,ad3')\n",
      "(11, '9,name9,1236,ad3')\n",
      "(12, '10,name10,4569,ad4')\n",
      "(13, '11,name11,8912,ad3')\n",
      "(14, '12,name12,111215,ad4')\n",
      "(15, '13,name13,1237,ad4')\n",
      "(16, '14,name14,4570,ad5')\n",
      "(17, '15,name15,8913,ad4')\n",
      "(18, '16,name16,111216,ad5')\n",
      "(19, '17,name17,1238,ad5')\n",
      "(20, '18,name18,4571,ad6')\n",
      "(21, '19,name19,8914,ad5')\n",
      "(22, '20,name20,111217,ad6')\n",
      "(23, '21,name21,1239,ad6')\n",
      "(24, '22,name22,4572,ad7')\n",
      "(25, '23,name23,8915,ad6')\n",
      "(26, '24,name24,111218,ad7')\n",
      "(27, '25,name25,1240,ad7')\n",
      "(28, '26,name26,4573,ad8')\n",
      "(29, '27,name27,8916,ad7')\n",
      "(30, '28,name28,111219,ad8')\n",
      "(31, '29,name29,1241,ad8')\n",
      "(32, '30,name30,4574,ad9')\n",
      "(33, '31,name31,8917,ad8')\n"
     ]
    }
   ],
   "source": [
    "for i in enumerate(data):\n",
    "    print i"
   ]
  },
  {
   "cell_type": "code",
   "execution_count": 53,
   "metadata": {
    "collapsed": false
   },
   "outputs": [
    {
     "name": "stdout",
     "output_type": "stream",
     "text": [
      "['1,name1,1234,ad1', '2,name2,4567,ad2', '3,name3,8910,ad1', '4,name4,111213,ad2', '5,name5,1235,ad2', '6,name6,4568,ad3', '7,name7,8911,ad2', '8,name8,111214,ad3', '9,name9,1236,ad3', '10,name10,4569,ad4', '11,name11,8912,ad3', '12,name12,111215,ad4', '13,name13,1237,ad4', '14,name14,4570,ad5', '15,name15,8913,ad4', '16,name16,111216,ad5', '17,name17,1238,ad5', '18,name18,4571,ad6', '19,name19,8914,ad5', '20,name20,111217,ad6', '21,name21,1239,ad6', '22,name22,4572,ad7', '23,name23,8915,ad6', '24,name24,111218,ad7', '25,name25,1240,ad7', '26,name26,4573,ad8', '27,name27,8916,ad7', '28,name28,111219,ad8', '29,name29,1241,ad8', '30,name30,4574,ad9', '31,name31,8917,ad8']\n"
     ]
    }
   ],
   "source": [
    "l=[]\n",
    "for index,value in enumerate(data):\n",
    "    if value.strip('\\n')==\",,,\":\n",
    "        l.append(index)\n",
    "[data.pop(i) for i in l]\n",
    "print data"
   ]
  },
  {
   "cell_type": "code",
   "execution_count": 62,
   "metadata": {
    "collapsed": false
   },
   "outputs": [
    {
     "name": "stdout",
     "output_type": "stream",
     "text": [
      "[{'salary': '1234', 'address': 'ad1', 'id': '1', 'name': 'name1'}, {'salary': '4567', 'address': 'ad2', 'id': '2', 'name': 'name2'}, {'salary': '8910', 'address': 'ad1', 'id': '3', 'name': 'name3'}, {'salary': '111213', 'address': 'ad2', 'id': '4', 'name': 'name4'}, {'salary': '1235', 'address': 'ad2', 'id': '5', 'name': 'name5'}, {'salary': '4568', 'address': 'ad3', 'id': '6', 'name': 'name6'}, {'salary': '8911', 'address': 'ad2', 'id': '7', 'name': 'name7'}, {'salary': '111214', 'address': 'ad3', 'id': '8', 'name': 'name8'}, {'salary': '1236', 'address': 'ad3', 'id': '9', 'name': 'name9'}, {'salary': '4569', 'address': 'ad4', 'id': '10', 'name': 'name10'}, {'salary': '8912', 'address': 'ad3', 'id': '11', 'name': 'name11'}, {'salary': '111215', 'address': 'ad4', 'id': '12', 'name': 'name12'}, {'salary': '1237', 'address': 'ad4', 'id': '13', 'name': 'name13'}, {'salary': '4570', 'address': 'ad5', 'id': '14', 'name': 'name14'}, {'salary': '8913', 'address': 'ad4', 'id': '15', 'name': 'name15'}, {'salary': '111216', 'address': 'ad5', 'id': '16', 'name': 'name16'}, {'salary': '1238', 'address': 'ad5', 'id': '17', 'name': 'name17'}, {'salary': '4571', 'address': 'ad6', 'id': '18', 'name': 'name18'}, {'salary': '8914', 'address': 'ad5', 'id': '19', 'name': 'name19'}, {'salary': '111217', 'address': 'ad6', 'id': '20', 'name': 'name20'}, {'salary': '1239', 'address': 'ad6', 'id': '21', 'name': 'name21'}, {'salary': '4572', 'address': 'ad7', 'id': '22', 'name': 'name22'}, {'salary': '8915', 'address': 'ad6', 'id': '23', 'name': 'name23'}, {'salary': '111218', 'address': 'ad7', 'id': '24', 'name': 'name24'}, {'salary': '1240', 'address': 'ad7', 'id': '25', 'name': 'name25'}, {'salary': '4573', 'address': 'ad8', 'id': '26', 'name': 'name26'}, {'salary': '8916', 'address': 'ad7', 'id': '27', 'name': 'name27'}, {'salary': '111219', 'address': 'ad8', 'id': '28', 'name': 'name28'}, {'salary': '1241', 'address': 'ad8', 'id': '29', 'name': 'name29'}, {'salary': '4574', 'address': 'ad9', 'id': '30', 'name': 'name30'}, {'salary': '8917', 'address': 'ad8', 'id': '31', 'name': 'name31'}]\n"
     ]
    }
   ],
   "source": [
    "#[{'id':1,'name':'name1'},{'id':2,'name':'name2'}]\n",
    "f=open('data.csv','r')\n",
    "data = f.readlines()\n",
    "data=[rec for rec in data if rec!=\",,,\\n\"]\n",
    "data = map(lambda rec:rec.strip('\\n'),data)\n",
    "keys = data[0].split(',')\n",
    "print [dict(zip(keys,rec.split(','))) for rec in data[1:]]"
   ]
  },
  {
   "cell_type": "code",
   "execution_count": 63,
   "metadata": {
    "collapsed": false
   },
   "outputs": [
    {
     "name": "stdout",
     "output_type": "stream",
     "text": [
      "[{'salary': '1234', 'address': 'ad1', 'id': '1', 'name': 'name1'}, {'salary': '4567', 'address': 'ad2', 'id': '2', 'name': 'name2'}, {'salary': '8910', 'address': 'ad1', 'id': '3', 'name': 'name3'}, {'salary': '111213', 'address': 'ad2', 'id': '4', 'name': 'name4'}, {'salary': '1235', 'address': 'ad2', 'id': '5', 'name': 'name5'}, {'salary': '4568', 'address': 'ad3', 'id': '6', 'name': 'name6'}, {'salary': '8911', 'address': 'ad2', 'id': '7', 'name': 'name7'}, {'salary': '111214', 'address': 'ad3', 'id': '8', 'name': 'name8'}, {'salary': '1236', 'address': 'ad3', 'id': '9', 'name': 'name9'}, {'salary': '4569', 'address': 'ad4', 'id': '10', 'name': 'name10'}, {'salary': '8912', 'address': 'ad3', 'id': '11', 'name': 'name11'}, {'salary': '111215', 'address': 'ad4', 'id': '12', 'name': 'name12'}, {'salary': '1237', 'address': 'ad4', 'id': '13', 'name': 'name13'}, {'salary': '4570', 'address': 'ad5', 'id': '14', 'name': 'name14'}, {'salary': '8913', 'address': 'ad4', 'id': '15', 'name': 'name15'}, {'salary': '111216', 'address': 'ad5', 'id': '16', 'name': 'name16'}, {'salary': '1238', 'address': 'ad5', 'id': '17', 'name': 'name17'}, {'salary': '4571', 'address': 'ad6', 'id': '18', 'name': 'name18'}, {'salary': '8914', 'address': 'ad5', 'id': '19', 'name': 'name19'}, {'salary': '111217', 'address': 'ad6', 'id': '20', 'name': 'name20'}, {'salary': '1239', 'address': 'ad6', 'id': '21', 'name': 'name21'}, {'salary': '4572', 'address': 'ad7', 'id': '22', 'name': 'name22'}, {'salary': '8915', 'address': 'ad6', 'id': '23', 'name': 'name23'}, {'salary': '111218', 'address': 'ad7', 'id': '24', 'name': 'name24'}, {'salary': '1240', 'address': 'ad7', 'id': '25', 'name': 'name25'}, {'salary': '4573', 'address': 'ad8', 'id': '26', 'name': 'name26'}, {'salary': '8916', 'address': 'ad7', 'id': '27', 'name': 'name27'}, {'salary': '111219', 'address': 'ad8', 'id': '28', 'name': 'name28'}, {'salary': '1241', 'address': 'ad8', 'id': '29', 'name': 'name29'}, {'salary': '4574', 'address': 'ad9', 'id': '30', 'name': 'name30'}, {'salary': '8917', 'address': 'ad8', 'id': '31', 'name': 'name31'}]\n"
     ]
    }
   ],
   "source": [
    "#[{'id':1,'name':'name1'},{'id':2,'name':'name2'}]\n",
    "f=open('data.csv','r')\n",
    "data = f.readlines()\n",
    "removed_chars = [',,,\\n',',\\n']\n",
    "data=[rec for rec in data if rec not in removed_chars]\n",
    "data = map(lambda rec:rec.strip('\\n'),data)\n",
    "keys = data[0].split(',')\n",
    "print [dict(zip(keys,rec.split(','))) for rec in data[1:]]"
   ]
  },
  {
   "cell_type": "code",
   "execution_count": null,
   "metadata": {
    "collapsed": true
   },
   "outputs": [],
   "source": []
  }
 ],
 "metadata": {
  "kernelspec": {
   "display_name": "Python 2",
   "language": "python",
   "name": "python2"
  },
  "language_info": {
   "codemirror_mode": {
    "name": "ipython",
    "version": 2
   },
   "file_extension": ".py",
   "mimetype": "text/x-python",
   "name": "python",
   "nbconvert_exporter": "python",
   "pygments_lexer": "ipython2",
   "version": "2.7.11"
  }
 },
 "nbformat": 4,
 "nbformat_minor": 0
}
