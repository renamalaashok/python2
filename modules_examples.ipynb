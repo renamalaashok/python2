{
 "cells": [
  {
   "cell_type": "code",
   "execution_count": null,
   "metadata": {
    "collapsed": true
   },
   "outputs": [],
   "source": [
    "import sqlite3"
   ]
  },
  {
   "cell_type": "code",
   "execution_count": 1,
   "metadata": {
    "collapsed": true
   },
   "outputs": [],
   "source": [
    "import sqlite3"
   ]
  },
  {
   "cell_type": "code",
   "execution_count": 2,
   "metadata": {
    "collapsed": true
   },
   "outputs": [],
   "source": [
    "con = sqlite3.connect('db1.db')"
   ]
  },
  {
   "cell_type": "code",
   "execution_count": 3,
   "metadata": {
    "collapsed": true
   },
   "outputs": [],
   "source": [
    "query = \"create table persons(id int, name varchar(50))\""
   ]
  },
  {
   "cell_type": "code",
   "execution_count": 4,
   "metadata": {
    "collapsed": true
   },
   "outputs": [],
   "source": [
    "cur = con.cursor()"
   ]
  },
  {
   "cell_type": "code",
   "execution_count": 5,
   "metadata": {
    "collapsed": false
   },
   "outputs": [
    {
     "data": {
      "text/plain": [
       "<sqlite3.Cursor at 0x7f73205f16c0>"
      ]
     },
     "execution_count": 5,
     "metadata": {},
     "output_type": "execute_result"
    }
   ],
   "source": [
    "cur.execute(query)"
   ]
  },
  {
   "cell_type": "code",
   "execution_count": 6,
   "metadata": {
    "collapsed": true
   },
   "outputs": [],
   "source": [
    "con.commit()"
   ]
  },
  {
   "cell_type": "code",
   "execution_count": 7,
   "metadata": {
    "collapsed": true
   },
   "outputs": [],
   "source": [
    "query = \"insert into persons values(1,'name1')\"\n",
    "cur.execute(query)\n",
    "con.commit()"
   ]
  },
  {
   "cell_type": "code",
   "execution_count": 9,
   "metadata": {
    "collapsed": false
   },
   "outputs": [],
   "source": [
    "import subprocess as sp\n",
    "out = sp.check_output('ls')"
   ]
  },
  {
   "cell_type": "code",
   "execution_count": 10,
   "metadata": {
    "collapsed": false
   },
   "outputs": [
    {
     "ename": "OSError",
     "evalue": "[Errno 2] No such file or directory",
     "output_type": "error",
     "traceback": [
      "\u001b[1;31m---------------------------------------------------------------------------\u001b[0m",
      "\u001b[1;31mOSError\u001b[0m                                   Traceback (most recent call last)",
      "\u001b[1;32m<ipython-input-10-33fb9832f14b>\u001b[0m in \u001b[0;36m<module>\u001b[1;34m()\u001b[0m\n\u001b[0;32m      1\u001b[0m \u001b[1;32mimport\u001b[0m \u001b[0msubprocess\u001b[0m \u001b[1;32mas\u001b[0m \u001b[0msp\u001b[0m\u001b[1;33m\u001b[0m\u001b[0m\n\u001b[1;32m----> 2\u001b[1;33m \u001b[0mout\u001b[0m \u001b[1;33m=\u001b[0m \u001b[0msp\u001b[0m\u001b[1;33m.\u001b[0m\u001b[0mcheck_output\u001b[0m\u001b[1;33m(\u001b[0m\u001b[1;34m'ps aux'\u001b[0m\u001b[1;33m)\u001b[0m\u001b[1;33m\u001b[0m\u001b[0m\n\u001b[0m",
      "\u001b[1;32m/home/tcloudost/anaconda2/lib/python2.7/subprocess.pyc\u001b[0m in \u001b[0;36mcheck_output\u001b[1;34m(*popenargs, **kwargs)\u001b[0m\n\u001b[0;32m    564\u001b[0m     \u001b[1;32mif\u001b[0m \u001b[1;34m'stdout'\u001b[0m \u001b[1;32min\u001b[0m \u001b[0mkwargs\u001b[0m\u001b[1;33m:\u001b[0m\u001b[1;33m\u001b[0m\u001b[0m\n\u001b[0;32m    565\u001b[0m         \u001b[1;32mraise\u001b[0m \u001b[0mValueError\u001b[0m\u001b[1;33m(\u001b[0m\u001b[1;34m'stdout argument not allowed, it will be overridden.'\u001b[0m\u001b[1;33m)\u001b[0m\u001b[1;33m\u001b[0m\u001b[0m\n\u001b[1;32m--> 566\u001b[1;33m     \u001b[0mprocess\u001b[0m \u001b[1;33m=\u001b[0m \u001b[0mPopen\u001b[0m\u001b[1;33m(\u001b[0m\u001b[0mstdout\u001b[0m\u001b[1;33m=\u001b[0m\u001b[0mPIPE\u001b[0m\u001b[1;33m,\u001b[0m \u001b[1;33m*\u001b[0m\u001b[0mpopenargs\u001b[0m\u001b[1;33m,\u001b[0m \u001b[1;33m**\u001b[0m\u001b[0mkwargs\u001b[0m\u001b[1;33m)\u001b[0m\u001b[1;33m\u001b[0m\u001b[0m\n\u001b[0m\u001b[0;32m    567\u001b[0m     \u001b[0moutput\u001b[0m\u001b[1;33m,\u001b[0m \u001b[0munused_err\u001b[0m \u001b[1;33m=\u001b[0m \u001b[0mprocess\u001b[0m\u001b[1;33m.\u001b[0m\u001b[0mcommunicate\u001b[0m\u001b[1;33m(\u001b[0m\u001b[1;33m)\u001b[0m\u001b[1;33m\u001b[0m\u001b[0m\n\u001b[0;32m    568\u001b[0m     \u001b[0mretcode\u001b[0m \u001b[1;33m=\u001b[0m \u001b[0mprocess\u001b[0m\u001b[1;33m.\u001b[0m\u001b[0mpoll\u001b[0m\u001b[1;33m(\u001b[0m\u001b[1;33m)\u001b[0m\u001b[1;33m\u001b[0m\u001b[0m\n",
      "\u001b[1;32m/home/tcloudost/anaconda2/lib/python2.7/subprocess.pyc\u001b[0m in \u001b[0;36m__init__\u001b[1;34m(self, args, bufsize, executable, stdin, stdout, stderr, preexec_fn, close_fds, shell, cwd, env, universal_newlines, startupinfo, creationflags)\u001b[0m\n\u001b[0;32m    708\u001b[0m                                 \u001b[0mp2cread\u001b[0m\u001b[1;33m,\u001b[0m \u001b[0mp2cwrite\u001b[0m\u001b[1;33m,\u001b[0m\u001b[1;33m\u001b[0m\u001b[0m\n\u001b[0;32m    709\u001b[0m                                 \u001b[0mc2pread\u001b[0m\u001b[1;33m,\u001b[0m \u001b[0mc2pwrite\u001b[0m\u001b[1;33m,\u001b[0m\u001b[1;33m\u001b[0m\u001b[0m\n\u001b[1;32m--> 710\u001b[1;33m                                 errread, errwrite)\n\u001b[0m\u001b[0;32m    711\u001b[0m         \u001b[1;32mexcept\u001b[0m \u001b[0mException\u001b[0m\u001b[1;33m:\u001b[0m\u001b[1;33m\u001b[0m\u001b[0m\n\u001b[0;32m    712\u001b[0m             \u001b[1;31m# Preserve original exception in case os.close raises.\u001b[0m\u001b[1;33m\u001b[0m\u001b[1;33m\u001b[0m\u001b[0m\n",
      "\u001b[1;32m/home/tcloudost/anaconda2/lib/python2.7/subprocess.pyc\u001b[0m in \u001b[0;36m_execute_child\u001b[1;34m(self, args, executable, preexec_fn, close_fds, cwd, env, universal_newlines, startupinfo, creationflags, shell, to_close, p2cread, p2cwrite, c2pread, c2pwrite, errread, errwrite)\u001b[0m\n\u001b[0;32m   1333\u001b[0m                         \u001b[1;32mraise\u001b[0m\u001b[1;33m\u001b[0m\u001b[0m\n\u001b[0;32m   1334\u001b[0m                 \u001b[0mchild_exception\u001b[0m \u001b[1;33m=\u001b[0m \u001b[0mpickle\u001b[0m\u001b[1;33m.\u001b[0m\u001b[0mloads\u001b[0m\u001b[1;33m(\u001b[0m\u001b[0mdata\u001b[0m\u001b[1;33m)\u001b[0m\u001b[1;33m\u001b[0m\u001b[0m\n\u001b[1;32m-> 1335\u001b[1;33m                 \u001b[1;32mraise\u001b[0m \u001b[0mchild_exception\u001b[0m\u001b[1;33m\u001b[0m\u001b[0m\n\u001b[0m\u001b[0;32m   1336\u001b[0m \u001b[1;33m\u001b[0m\u001b[0m\n\u001b[0;32m   1337\u001b[0m \u001b[1;33m\u001b[0m\u001b[0m\n",
      "\u001b[1;31mOSError\u001b[0m: [Errno 2] No such file or directory"
     ]
    }
   ],
   "source": [
    "import subprocess as sp\n",
    "out = sp.check_output('ps aux')"
   ]
  },
  {
   "cell_type": "code",
   "execution_count": 11,
   "metadata": {
    "collapsed": false
   },
   "outputs": [
    {
     "data": {
      "text/plain": [
       "'  PID TTY          TIME CMD\\n 1645 ?        00:00:00 systemd\\n 1646 ?        00:00:00 (sd-pam)\\n 1660 ?        00:00:00 gnome-keyring-d\\n 1672 ?        00:00:01 upstart\\n 1753 ?        00:00:03 VBoxClient\\n 1758 ?        00:00:03 VBoxClient\\n 1768 ?        00:00:03 VBoxClient\\n 1778 ?        00:00:00 dbus-launch\\n 1782 ?        00:00:03 VBoxClient\\n 1789 ?        00:00:03 VBoxClient\\n 1791 ?        00:00:00 dbus-daemon\\n 1800 ?        00:00:02 notify-osd\\n 1819 ?        00:00:00 upstart-udev-br\\n 1826 ?        00:00:00 at-spi-bus-laun\\n 1836 ?        00:00:00 dbus-daemon\\n 1838 ?        00:00:02 at-spi2-registr\\n 1839 ?        00:00:03 dbus-daemon\\n 1848 ?        00:00:00 gvfsd\\n 1856 ?        00:00:00 gvfsd-fuse\\n 1870 ?        00:00:00 window-stack-br\\n 1886 ?        00:00:01 gnome-screensav\\n 1897 ?        00:00:04 bamfdaemon\\n 1922 ?        00:00:00 gvfsd\\n 1934 ?        00:00:24 ibus-daemon\\n 1944 ?        00:00:00 ibus-dconf\\n 1947 ?        00:00:00 upstart-dbus-br\\n 1949 ?        00:00:00 upstart-dbus-br\\n 1950 ?        00:00:00 upstart-file-br\\n 1952 ?        00:00:09 ibus-ui-gtk3\\n 1958 ?        00:00:00 ibus-x11\\n 1968 ?        00:00:04 hud-service\\n 1971 ?        00:00:06 unity-settings-\\n 1981 ?        00:00:00 gnome-session\\n 1986 ?        00:18:22 compiz\\n 1992 ?        00:00:05 unity-panel-ser\\n 1995 ?        00:00:06 ibus-engine-sim\\n 2015 ?        00:00:00 dconf-service\\n 2033 ?        00:00:00 indicator-messa\\n 2036 ?        00:00:00 indicator-bluet\\n 2041 ?        00:00:00 indicator-power\\n 2047 ?        00:00:00 indicator-datet\\n 2051 ?        00:00:01 indicator-keybo\\n 2053 ?        00:00:00 indicator-sound\\n 2057 ?        00:00:01 indicator-print\\n 2061 ?        00:00:00 indicator-sessi\\n 2070 ?        00:00:00 evolution-sourc\\n 2076 ?        00:00:00 indicator-appli\\n 2099 ?        00:00:00 pulseaudio\\n 2130 ?        00:00:39 nautilus\\n 2132 ?        00:00:01 polkit-gnome-au\\n 2137 ?        00:00:01 unity-fallback-\\n 2138 ?        00:00:01 nm-applet\\n 2152 ?        00:00:00 evolution-calen\\n 2154 ?        00:00:00 gvfs-udisks2-vo\\n 2171 ?        00:00:00 gconfd-2\\n 2173 ?        00:00:00 gvfs-afc-volume\\n 2179 ?        00:00:00 gvfs-gphoto2-vo\\n 2184 ?        00:00:00 gvfs-mtp-volume\\n 2199 ?        00:00:00 gvfsd-burn\\n 2205 ?        00:00:00 gvfsd-trash\\n 2217 ?        00:00:00 evolution-calen\\n 2231 ?        00:00:00 evolution-addre\\n 2232 ?        00:00:00 evolution-calen\\n 2253 ?        00:00:00 evolution-addre\\n 2284 ?        00:00:00 gvfsd-metadata\\n 2292 ?        00:00:01 telepathy-indic\\n 2302 ?        00:00:00 mission-control\\n 2321 ?        00:00:02 zeitgeist-datah\\n 2327 ?        00:00:00 zeitgeist-daemo\\n 2336 ?        00:00:00 zeitgeist-fts\\n 2420 ?        00:00:01 update-notifier\\n 2538 ?        00:00:00 deja-dup-monito\\n 3120 ?        00:00:12 gnome-terminal-\\n 3131 ?        00:00:00 gnome-pty-helpe\\n 3199 ?        00:00:00 gvfsd-http\\n 3305 ?        00:00:04 python\\n 7108 ?        00:00:03 python\\n10376 ?        00:00:02 python\\n10452 ?        00:00:00 unity-scope-hom\\n10474 ?        00:00:01 unity-scope-loa\\n10475 ?        00:00:00 unity-files-dae\\n10479 ?        00:00:00 unity-music-dae\\n10527 ?        00:00:33 sublime_text\\n10544 ?        00:00:06 plugin_host\\n12335 ?        00:02:28 firefox\\n12440 ?        00:00:02 python\\n14087 ?        00:00:02 python\\n14308 ?        00:00:01 sqlitebrowser\\n14795 ?        00:00:00 ps\\n'"
      ]
     },
     "execution_count": 11,
     "metadata": {},
     "output_type": "execute_result"
    }
   ],
   "source": [
    "sp.check_output(\"ps\")"
   ]
  },
  {
   "cell_type": "code",
   "execution_count": 12,
   "metadata": {
    "collapsed": true
   },
   "outputs": [],
   "source": [
    "sp.check_output?"
   ]
  },
  {
   "cell_type": "code",
   "execution_count": 17,
   "metadata": {
    "collapsed": false
   },
   "outputs": [],
   "source": [
    "out = sp.check_output([\"ls\",\"-l\"])"
   ]
  },
  {
   "cell_type": "code",
   "execution_count": 18,
   "metadata": {
    "collapsed": false
   },
   "outputs": [
    {
     "data": {
      "text/plain": [
       "str"
      ]
     },
     "execution_count": 18,
     "metadata": {},
     "output_type": "execute_result"
    }
   ],
   "source": [
    "type(out)"
   ]
  },
  {
   "cell_type": "code",
   "execution_count": 19,
   "metadata": {
    "collapsed": false
   },
   "outputs": [
    {
     "name": "stdout",
     "output_type": "stream",
     "text": [
      "total 928\n",
      "-rw-rw-r-- 1 tcloudost tcloudost  19936 Nov 13 08:28 a.html\n",
      "-rw-rw-r-- 1 tcloudost tcloudost     96 Oct 27 07:56 a.py\n",
      "-rw-rw-r-- 1 tcloudost tcloudost    208 Oct 23 11:19 a.pyc\n",
      "-rw-rw-r-- 1 tcloudost tcloudost  14132 Oct 28 07:41 bool.ipynb\n",
      "-rw-rw-r-- 1 tcloudost tcloudost    616 Nov 12 09:27 data.csv\n",
      "-rw-rw-r-- 1 tcloudost tcloudost  31615 Oct 27 08:44 datatypes2.ipynb\n",
      "-rw-rw-r-- 1 tcloudost tcloudost   2576 Oct 27 08:44 datatypes2.py\n",
      "-rw-rw-r-- 1 tcloudost tcloudost  14519 Oct 27 08:44 datatypes.ipynb\n",
      "-rw-rw-r-- 1 tcloudost tcloudost   1292 Oct 27 08:44 datatypes.py\n",
      "-rw-r--r-- 1 tcloudost tcloudost   2048 Nov 13 10:16 db1.db\n",
      "-rw-rw-r-- 1 tcloudost tcloudost  36433 Nov 11 07:43 dictionaries-2016-Nov-10.ipynb\n",
      "-rw-rw-r-- 1 tcloudost tcloudost  15617 Nov 12 08:44 ds1.ipynb\n",
      "-rw-rw-r-- 1 tcloudost tcloudost  16214 Nov 13 08:58 exceptions.ipynb\n",
      "-rw-rw-r-- 1 tcloudost tcloudost     52 Nov 13 08:00 f1.txt\n",
      "-rw-rw-r-- 1 tcloudost tcloudost     52 Nov 13 08:13 f2.txt\n",
      "-rw-rw-r-- 1 tcloudost tcloudost     78 Nov 13 08:23 f3.txt\n",
      "-rw-rw-r-- 1 tcloudost tcloudost 170838 Nov 13 08:29 files1.ipynb\n",
      "-rw-rw-r-- 1 tcloudost tcloudost  33823 Nov 12 10:02 files.ipynb\n",
      "-rw-rw-r-- 1 tcloudost tcloudost   6390 Nov  5 07:31 functions3.ipynb\n",
      "-rw-rw-r-- 1 tcloudost tcloudost  15566 Nov  5 07:19 functions.ipynb\n",
      "-rw-rw-r-- 1 tcloudost tcloudost  30567 Nov 11 08:02 fun-dictionaries-2016-Nov-11.ipynb\n",
      "-rw-rw-r-- 1 tcloudost tcloudost  14142 Oct 27 08:45 intro_fun.ipynb\n",
      "-rw-rw-r-- 1 tcloudost tcloudost   3162 Oct 27 08:46 intro_fun.py\n",
      "-rw-rw-r-- 1 tcloudost tcloudost  59617 Nov  5 10:10 lists1.ipynb\n",
      "-rw-rw-r-- 1 tcloudost tcloudost  12953 Nov  5 10:13 lists2.ipynb\n",
      "-rw-rw-r-- 1 tcloudost tcloudost  33822 Nov  9 08:02 lists3.ipynb\n",
      "-rw-rw-r-- 1 tcloudost tcloudost  16310 Nov  4 07:21 loop2.ipynb\n",
      "-rw-rw-r-- 1 tcloudost tcloudost   5158 Nov  2 08:09 loop.ipynb\n",
      "-rw-rw-r-- 1 tcloudost tcloudost  43291 Nov 13 07:36 m1.jpg\n",
      "-rw-rw-r-- 1 tcloudost tcloudost  43291 Oct 24 07:16 memory.jpg\n",
      "-rw-rw-r-- 1 tcloudost tcloudost  23805 Oct 27 08:46 memory organization.ipynb\n",
      "-rw-rw-r-- 1 tcloudost tcloudost   1884 Oct 27 08:46 memory organization.py\n",
      "drwxrwxr-x 3 tcloudost tcloudost   4096 Nov 13 09:58 modules\n",
      "-rw-rw-r-- 1 tcloudost tcloudost   4477 Nov 13 10:08 modules.ipynb\n",
      "-rw-rw-r-- 1 tcloudost tcloudost   5112 Nov 12 10:17 modules.zip\n",
      "-rw-rw-r-- 1 tcloudost tcloudost  19856 Oct 27 08:47 print.ipynb\n",
      "-rw-rw-r-- 1 tcloudost tcloudost   2823 Oct 27 08:47 print.py\n",
      "-rw-rw-r-- 1 tcloudost tcloudost   2720 Sep 18 09:55 python idels installtion.txt\n",
      "-rw-rw-r-- 1 tcloudost tcloudost  19208 Nov  2 08:11 string functions2.ipynb\n",
      "-rw-rw-r-- 1 tcloudost tcloudost  36568 Nov  1 08:08 string functions.ipynb\n",
      "-rw-rw-r-- 1 tcloudost tcloudost   2195 Nov  8 07:38 Untitled1.ipynb\n",
      "-rw-rw-r-- 1 tcloudost tcloudost  17689 Nov  8 08:12 Untitled2.ipynb\n",
      "-rw-rw-r-- 1 tcloudost tcloudost     72 Nov 13 09:22 Untitled3.ipynb\n",
      "-rw-rw-r-- 1 tcloudost tcloudost  14792 Nov 13 10:23 Untitled4.ipynb\n",
      "-rw-rw-r-- 1 tcloudost tcloudost      0 Nov 12 09:00 Untitled Document\n",
      "-rw-rw-r-- 1 tcloudost tcloudost  59965 Nov  5 09:46 Untitled.ipynb\n",
      "\n"
     ]
    }
   ],
   "source": [
    "print out"
   ]
  },
  {
   "cell_type": "code",
   "execution_count": 20,
   "metadata": {
    "collapsed": false
   },
   "outputs": [
    {
     "name": "stdout",
     "output_type": "stream",
     "text": [
      "['total 928', '-rw-rw-r-- 1 tcloudost tcloudost  19936 Nov 13 08:28 a.html', '-rw-rw-r-- 1 tcloudost tcloudost     96 Oct 27 07:56 a.py', '-rw-rw-r-- 1 tcloudost tcloudost    208 Oct 23 11:19 a.pyc', '-rw-rw-r-- 1 tcloudost tcloudost  14132 Oct 28 07:41 bool.ipynb', '-rw-rw-r-- 1 tcloudost tcloudost    616 Nov 12 09:27 data.csv', '-rw-rw-r-- 1 tcloudost tcloudost  31615 Oct 27 08:44 datatypes2.ipynb', '-rw-rw-r-- 1 tcloudost tcloudost   2576 Oct 27 08:44 datatypes2.py', '-rw-rw-r-- 1 tcloudost tcloudost  14519 Oct 27 08:44 datatypes.ipynb', '-rw-rw-r-- 1 tcloudost tcloudost   1292 Oct 27 08:44 datatypes.py', '-rw-r--r-- 1 tcloudost tcloudost   2048 Nov 13 10:16 db1.db', '-rw-rw-r-- 1 tcloudost tcloudost  36433 Nov 11 07:43 dictionaries-2016-Nov-10.ipynb', '-rw-rw-r-- 1 tcloudost tcloudost  15617 Nov 12 08:44 ds1.ipynb', '-rw-rw-r-- 1 tcloudost tcloudost  16214 Nov 13 08:58 exceptions.ipynb', '-rw-rw-r-- 1 tcloudost tcloudost     52 Nov 13 08:00 f1.txt', '-rw-rw-r-- 1 tcloudost tcloudost     52 Nov 13 08:13 f2.txt', '-rw-rw-r-- 1 tcloudost tcloudost     78 Nov 13 08:23 f3.txt', '-rw-rw-r-- 1 tcloudost tcloudost 170838 Nov 13 08:29 files1.ipynb', '-rw-rw-r-- 1 tcloudost tcloudost  33823 Nov 12 10:02 files.ipynb', '-rw-rw-r-- 1 tcloudost tcloudost   6390 Nov  5 07:31 functions3.ipynb', '-rw-rw-r-- 1 tcloudost tcloudost  15566 Nov  5 07:19 functions.ipynb', '-rw-rw-r-- 1 tcloudost tcloudost  30567 Nov 11 08:02 fun-dictionaries-2016-Nov-11.ipynb', '-rw-rw-r-- 1 tcloudost tcloudost  14142 Oct 27 08:45 intro_fun.ipynb', '-rw-rw-r-- 1 tcloudost tcloudost   3162 Oct 27 08:46 intro_fun.py', '-rw-rw-r-- 1 tcloudost tcloudost  59617 Nov  5 10:10 lists1.ipynb', '-rw-rw-r-- 1 tcloudost tcloudost  12953 Nov  5 10:13 lists2.ipynb', '-rw-rw-r-- 1 tcloudost tcloudost  33822 Nov  9 08:02 lists3.ipynb', '-rw-rw-r-- 1 tcloudost tcloudost  16310 Nov  4 07:21 loop2.ipynb', '-rw-rw-r-- 1 tcloudost tcloudost   5158 Nov  2 08:09 loop.ipynb', '-rw-rw-r-- 1 tcloudost tcloudost  43291 Nov 13 07:36 m1.jpg', '-rw-rw-r-- 1 tcloudost tcloudost  43291 Oct 24 07:16 memory.jpg', '-rw-rw-r-- 1 tcloudost tcloudost  23805 Oct 27 08:46 memory organization.ipynb', '-rw-rw-r-- 1 tcloudost tcloudost   1884 Oct 27 08:46 memory organization.py', 'drwxrwxr-x 3 tcloudost tcloudost   4096 Nov 13 09:58 modules', '-rw-rw-r-- 1 tcloudost tcloudost   4477 Nov 13 10:08 modules.ipynb', '-rw-rw-r-- 1 tcloudost tcloudost   5112 Nov 12 10:17 modules.zip', '-rw-rw-r-- 1 tcloudost tcloudost  19856 Oct 27 08:47 print.ipynb', '-rw-rw-r-- 1 tcloudost tcloudost   2823 Oct 27 08:47 print.py', '-rw-rw-r-- 1 tcloudost tcloudost   2720 Sep 18 09:55 python idels installtion.txt', '-rw-rw-r-- 1 tcloudost tcloudost  19208 Nov  2 08:11 string functions2.ipynb', '-rw-rw-r-- 1 tcloudost tcloudost  36568 Nov  1 08:08 string functions.ipynb', '-rw-rw-r-- 1 tcloudost tcloudost   2195 Nov  8 07:38 Untitled1.ipynb', '-rw-rw-r-- 1 tcloudost tcloudost  17689 Nov  8 08:12 Untitled2.ipynb', '-rw-rw-r-- 1 tcloudost tcloudost     72 Nov 13 09:22 Untitled3.ipynb', '-rw-rw-r-- 1 tcloudost tcloudost  14792 Nov 13 10:23 Untitled4.ipynb', '-rw-rw-r-- 1 tcloudost tcloudost      0 Nov 12 09:00 Untitled Document', '-rw-rw-r-- 1 tcloudost tcloudost  59965 Nov  5 09:46 Untitled.ipynb']\n"
     ]
    }
   ],
   "source": [
    "data = out.splitlines()\n",
    "print data"
   ]
  },
  {
   "cell_type": "code",
   "execution_count": 21,
   "metadata": {
    "collapsed": true
   },
   "outputs": [],
   "source": [
    "for process in data:\n",
    "    if \"firefox\" in process:\n",
    "        print process"
   ]
  },
  {
   "cell_type": "code",
   "execution_count": 22,
   "metadata": {
    "collapsed": false
   },
   "outputs": [
    {
     "name": "stdout",
     "output_type": "stream",
     "text": [
      "tcloudo+ 12335  7.6  7.4 1045016 303032 ?      Rl   09:46   3:09 /usr/lib/firefox/firefox\n"
     ]
    }
   ],
   "source": [
    "out = sp.check_output([\"ps\",\"-aux\"])\n",
    "proceses = out.splitlines()\n",
    "for process in proceses:\n",
    "    if \"firefox\" in process:\n",
    "        print process"
   ]
  },
  {
   "cell_type": "code",
   "execution_count": 23,
   "metadata": {
    "collapsed": false
   },
   "outputs": [
    {
     "data": {
      "text/plain": [
       "'tcloudo+ 15124  6.0  0.0  22676  2652 ?        R    10:27   0:00 ps -aux'"
      ]
     },
     "execution_count": 23,
     "metadata": {},
     "output_type": "execute_result"
    }
   ],
   "source": [
    "process"
   ]
  },
  {
   "cell_type": "code",
   "execution_count": 24,
   "metadata": {
    "collapsed": false
   },
   "outputs": [
    {
     "data": {
      "text/plain": [
       "['tcloudo+',\n",
       " '15124',\n",
       " '6.0',\n",
       " '0.0',\n",
       " '22676',\n",
       " '2652',\n",
       " '?',\n",
       " 'R',\n",
       " '10:27',\n",
       " '0:00',\n",
       " 'ps',\n",
       " '-aux']"
      ]
     },
     "execution_count": 24,
     "metadata": {},
     "output_type": "execute_result"
    }
   ],
   "source": [
    "process.split()"
   ]
  },
  {
   "cell_type": "code",
   "execution_count": 25,
   "metadata": {
    "collapsed": true
   },
   "outputs": [],
   "source": [
    "pid = process.split()[1]"
   ]
  },
  {
   "cell_type": "code",
   "execution_count": 26,
   "metadata": {
    "collapsed": false
   },
   "outputs": [
    {
     "data": {
      "text/plain": [
       "'15124'"
      ]
     },
     "execution_count": 26,
     "metadata": {},
     "output_type": "execute_result"
    }
   ],
   "source": [
    "pid"
   ]
  },
  {
   "cell_type": "code",
   "execution_count": null,
   "metadata": {
    "collapsed": true
   },
   "outputs": [],
   "source": [
    "out = sp.check_output([\"ps\",\"-aux\"])\n",
    "proceses = out.splitlines()\n",
    "for process in proceses:\n",
    "    if \"firefox\" in process:\n",
    "        pid = process.split()[1]\n",
    "        sp.check_output(['kill',pid])"
   ]
  },
  {
   "cell_type": "code",
   "execution_count": null,
   "metadata": {
    "collapsed": true
   },
   "outputs": [],
   "source": [
    "import paramiko"
   ]
  }
 ],
 "metadata": {
  "kernelspec": {
   "display_name": "Python 2",
   "language": "python",
   "name": "python2"
  },
  "language_info": {
   "codemirror_mode": {
    "name": "ipython",
    "version": 2
   },
   "file_extension": ".py",
   "mimetype": "text/x-python",
   "name": "python",
   "nbconvert_exporter": "python",
   "pygments_lexer": "ipython2",
   "version": "2.7.11"
  }
 },
 "nbformat": 4,
 "nbformat_minor": 0
}
