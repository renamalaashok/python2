{
 "cells": [
  {
   "cell_type": "code",
   "execution_count": 1,
   "metadata": {
    "collapsed": false
   },
   "outputs": [
    {
     "name": "stdout",
     "output_type": "stream",
     "text": [
      "600\n",
      "20000\n"
     ]
    }
   ],
   "source": [
    "def add(a,b):\n",
    "    a=a+100\n",
    "    b=a+200\n",
    "    return a+b\n",
    "def mul(a,b):\n",
    "    return a*b\n",
    "print add(100,200)\n",
    "print mul(100,200)\n",
    "#data abstraction\n",
    "#inheritance\n",
    "#polymorphism\n",
    "#security"
   ]
  },
  {
   "cell_type": "code",
   "execution_count": 3,
   "metadata": {
    "collapsed": false
   },
   "outputs": [
    {
     "name": "stdout",
     "output_type": "stream",
     "text": [
      "(<__main__.c1 instance at 0x7f5bfcfdbb48>, 100, 200)\n",
      "10\n",
      "20\n",
      "1000\n"
     ]
    }
   ],
   "source": [
    "# instance method\n",
    "class c1:\n",
    "    a=10\n",
    "    b=20\n",
    "    def add(*c):\n",
    "        print c\n",
    "o1 = c1()\n",
    "o1.add(100,200)\n",
    "print o1.a\n",
    "print o1.b\n",
    "o1.a=1000\n",
    "print o1.a"
   ]
  },
  {
   "cell_type": "code",
   "execution_count": 4,
   "metadata": {
    "collapsed": false
   },
   "outputs": [
    {
     "ename": "NameError",
     "evalue": "global name 'a' is not defined",
     "output_type": "error",
     "traceback": [
      "\u001b[1;31m---------------------------------------------------------------------------\u001b[0m",
      "\u001b[1;31mNameError\u001b[0m                                 Traceback (most recent call last)",
      "\u001b[1;32m<ipython-input-4-466ab86860c6>\u001b[0m in \u001b[0;36m<module>\u001b[1;34m()\u001b[0m\n\u001b[0;32m      6\u001b[0m         \u001b[1;32mprint\u001b[0m \u001b[0ma\u001b[0m\u001b[1;33m,\u001b[0m\u001b[0mb\u001b[0m\u001b[1;33m\u001b[0m\u001b[0m\n\u001b[0;32m      7\u001b[0m \u001b[0mo1\u001b[0m \u001b[1;33m=\u001b[0m \u001b[0mc1\u001b[0m\u001b[1;33m(\u001b[0m\u001b[1;33m)\u001b[0m\u001b[1;33m\u001b[0m\u001b[0m\n\u001b[1;32m----> 8\u001b[1;33m \u001b[0mo1\u001b[0m\u001b[1;33m.\u001b[0m\u001b[0madd\u001b[0m\u001b[1;33m(\u001b[0m\u001b[1;33m)\u001b[0m\u001b[1;33m\u001b[0m\u001b[0m\n\u001b[0m",
      "\u001b[1;32m<ipython-input-4-466ab86860c6>\u001b[0m in \u001b[0;36madd\u001b[1;34m(s)\u001b[0m\n\u001b[0;32m      4\u001b[0m     \u001b[0mb\u001b[0m\u001b[1;33m=\u001b[0m\u001b[1;36m20\u001b[0m\u001b[1;33m\u001b[0m\u001b[0m\n\u001b[0;32m      5\u001b[0m     \u001b[1;32mdef\u001b[0m \u001b[0madd\u001b[0m\u001b[1;33m(\u001b[0m\u001b[0ms\u001b[0m\u001b[1;33m)\u001b[0m\u001b[1;33m:\u001b[0m\u001b[1;33m\u001b[0m\u001b[0m\n\u001b[1;32m----> 6\u001b[1;33m         \u001b[1;32mprint\u001b[0m \u001b[0ma\u001b[0m\u001b[1;33m,\u001b[0m\u001b[0mb\u001b[0m\u001b[1;33m\u001b[0m\u001b[0m\n\u001b[0m\u001b[0;32m      7\u001b[0m \u001b[0mo1\u001b[0m \u001b[1;33m=\u001b[0m \u001b[0mc1\u001b[0m\u001b[1;33m(\u001b[0m\u001b[1;33m)\u001b[0m\u001b[1;33m\u001b[0m\u001b[0m\n\u001b[0;32m      8\u001b[0m \u001b[0mo1\u001b[0m\u001b[1;33m.\u001b[0m\u001b[0madd\u001b[0m\u001b[1;33m(\u001b[0m\u001b[1;33m)\u001b[0m\u001b[1;33m\u001b[0m\u001b[0m\n",
      "\u001b[1;31mNameError\u001b[0m: global name 'a' is not defined"
     ]
    }
   ],
   "source": [
    "# instance method\n",
    "class c1:\n",
    "    a=10\n",
    "    b=20\n",
    "    def add(s):\n",
    "        print a,b\n",
    "o1 = c1()\n",
    "o1.add()"
   ]
  },
  {
   "cell_type": "code",
   "execution_count": 11,
   "metadata": {
    "collapsed": false
   },
   "outputs": [
    {
     "name": "stdout",
     "output_type": "stream",
     "text": [
      "10 20\n",
      "10 20\n",
      "None\n"
     ]
    }
   ],
   "source": [
    "# instance method\n",
    "class c1:\n",
    "    a=10\n",
    "    b=20\n",
    "    def add1(s):\n",
    "        print s.a,s.b\n",
    "    def operation(s):\n",
    "        print s.add1()\n",
    "        \n",
    "o1 = c1()\n",
    "o1.add1()\n",
    "o1.operation()"
   ]
  },
  {
   "cell_type": "code",
   "execution_count": 12,
   "metadata": {
    "collapsed": false
   },
   "outputs": [
    {
     "ename": "TypeError",
     "evalue": "add1() takes exactly 1 argument (2 given)",
     "output_type": "error",
     "traceback": [
      "\u001b[1;31m---------------------------------------------------------------------------\u001b[0m",
      "\u001b[1;31mTypeError\u001b[0m                                 Traceback (most recent call last)",
      "\u001b[1;32m<ipython-input-12-e25b866a7cc9>\u001b[0m in \u001b[0;36m<module>\u001b[1;34m()\u001b[0m\n\u001b[0;32m      9\u001b[0m \u001b[1;33m\u001b[0m\u001b[0m\n\u001b[0;32m     10\u001b[0m \u001b[0mo1\u001b[0m \u001b[1;33m=\u001b[0m \u001b[0mc1\u001b[0m\u001b[1;33m(\u001b[0m\u001b[1;33m)\u001b[0m\u001b[1;33m\u001b[0m\u001b[0m\n\u001b[1;32m---> 11\u001b[1;33m \u001b[0mo1\u001b[0m\u001b[1;33m.\u001b[0m\u001b[0madd1\u001b[0m\u001b[1;33m(\u001b[0m\u001b[1;36m10\u001b[0m\u001b[1;33m)\u001b[0m\u001b[1;33m\u001b[0m\u001b[0m\n\u001b[0m\u001b[0;32m     12\u001b[0m \u001b[0mo1\u001b[0m\u001b[1;33m.\u001b[0m\u001b[0moperation\u001b[0m\u001b[1;33m(\u001b[0m\u001b[1;33m)\u001b[0m\u001b[1;33m\u001b[0m\u001b[0m\n",
      "\u001b[1;31mTypeError\u001b[0m: add1() takes exactly 1 argument (2 given)"
     ]
    }
   ],
   "source": [
    "# instance method\n",
    "class c1:\n",
    "    a=10\n",
    "    b=20\n",
    "    def add1(s):\n",
    "        print s.a,s.b\n",
    "    def operation(s):\n",
    "        print s.add1()\n",
    "        \n",
    "o1 = c1()\n",
    "o1.add1(10)\n",
    "o1.operation()"
   ]
  },
  {
   "cell_type": "code",
   "execution_count": 13,
   "metadata": {
    "collapsed": false
   },
   "outputs": [
    {
     "ename": "TypeError",
     "evalue": "add1() takes no arguments (1 given)",
     "output_type": "error",
     "traceback": [
      "\u001b[1;31m---------------------------------------------------------------------------\u001b[0m",
      "\u001b[1;31mTypeError\u001b[0m                                 Traceback (most recent call last)",
      "\u001b[1;32m<ipython-input-13-8be933d6743f>\u001b[0m in \u001b[0;36m<module>\u001b[1;34m()\u001b[0m\n\u001b[0;32m      9\u001b[0m \u001b[1;33m\u001b[0m\u001b[0m\n\u001b[0;32m     10\u001b[0m \u001b[0mo1\u001b[0m \u001b[1;33m=\u001b[0m \u001b[0mc1\u001b[0m\u001b[1;33m(\u001b[0m\u001b[1;33m)\u001b[0m\u001b[1;33m\u001b[0m\u001b[0m\n\u001b[1;32m---> 11\u001b[1;33m \u001b[0mo1\u001b[0m\u001b[1;33m.\u001b[0m\u001b[0madd1\u001b[0m\u001b[1;33m(\u001b[0m\u001b[1;33m)\u001b[0m\u001b[1;33m\u001b[0m\u001b[0m\n\u001b[0m\u001b[0;32m     12\u001b[0m \u001b[0mo1\u001b[0m\u001b[1;33m.\u001b[0m\u001b[0moperation\u001b[0m\u001b[1;33m(\u001b[0m\u001b[1;33m)\u001b[0m\u001b[1;33m\u001b[0m\u001b[0m\n",
      "\u001b[1;31mTypeError\u001b[0m: add1() takes no arguments (1 given)"
     ]
    }
   ],
   "source": [
    "# instance method\n",
    "class c1:\n",
    "    a=10\n",
    "    b=20\n",
    "    def add1():\n",
    "        print \"dsfsdfs\"\n",
    "    def operation(s):\n",
    "        print s.add1()\n",
    "        \n",
    "o1 = c1()\n",
    "o1.add1()\n",
    "o1.operation()"
   ]
  },
  {
   "cell_type": "code",
   "execution_count": 15,
   "metadata": {
    "collapsed": false
   },
   "outputs": [],
   "source": [
    "# instance method\n",
    "class c1:\n",
    "    a=10\n",
    "    b=20\n",
    "    def add1(s):\n",
    "        print s.a,s.b\n",
    "    def operation(s):\n",
    "        print s.add1()\n",
    "        \n",
    "o1 = c1()\n",
    "#o1.add1()\n",
    "#o1.operation()"
   ]
  },
  {
   "cell_type": "code",
   "execution_count": 16,
   "metadata": {
    "collapsed": false
   },
   "outputs": [
    {
     "name": "stdout",
     "output_type": "stream",
     "text": [
      "(10, 20)\n",
      "(100, 200)\n"
     ]
    }
   ],
   "source": [
    "# instance method\n",
    "class c1:\n",
    "    a=10\n",
    "    b=20\n",
    "    def get(s):\n",
    "        return s.a,s.b\n",
    "        \n",
    "o1 = c1()\n",
    "o2 = c1()\n",
    "o2.a=100\n",
    "o2.b=200\n",
    "print o1.get()\n",
    "print o2.get()"
   ]
  },
  {
   "cell_type": "code",
   "execution_count": 18,
   "metadata": {
    "collapsed": false
   },
   "outputs": [
    {
     "name": "stdout",
     "output_type": "stream",
     "text": [
      "this is constructor\n"
     ]
    }
   ],
   "source": [
    "# instance method\n",
    "class c1:\n",
    "    def __init__(self):\n",
    "        print \"this is constructor\"\n",
    "    def get(self):\n",
    "        return self.a,self.b  \n",
    "o1=c1()"
   ]
  },
  {
   "cell_type": "code",
   "execution_count": 19,
   "metadata": {
    "collapsed": false
   },
   "outputs": [
    {
     "name": "stdout",
     "output_type": "stream",
     "text": [
      "(100, 200, 300)\n",
      "(1000, 2000, 3000)\n"
     ]
    }
   ],
   "source": [
    "# instance method\n",
    "class c1:\n",
    "    def __init__(self,a,b):\n",
    "        self.a1=a\n",
    "        self.b1=b\n",
    "        c1=a+b\n",
    "        self.c=a+b\n",
    "        \n",
    "    def get(self):\n",
    "        return self.a1,self.b1,self.c\n",
    "o1=c1(100,200)\n",
    "print o1.get()\n",
    "o2=c1(1000,2000)\n",
    "print o2.get()\n"
   ]
  },
  {
   "cell_type": "code",
   "execution_count": 21,
   "metadata": {
    "collapsed": false
   },
   "outputs": [
    {
     "name": "stdout",
     "output_type": "stream",
     "text": [
      "('Ashok', 234556, 23)\n",
      "('Pavan', 234566, 24)\n",
      "('Anil', None, 25)\n"
     ]
    }
   ],
   "source": [
    "class emp:\n",
    "    def __init__(self,**kwargs):\n",
    "        self.name=kwargs.get('name')\n",
    "        self.sal=kwargs.get('sal')\n",
    "        self.age = kwargs.get('age')\n",
    "        self.per = 10\n",
    "    def get(self):\n",
    "        return self.name,self.sal,self.age\n",
    "ashok = emp(name=\"Ashok\",age=23,sal=234556)\n",
    "pavan = emp(name=\"Pavan\",age=24,sal=234566)\n",
    "anil = emp(name=\"Anil\",age=25)\n",
    "print ashok.get()\n",
    "print pavan.get()\n",
    "print anil.get()"
   ]
  },
  {
   "cell_type": "code",
   "execution_count": 22,
   "metadata": {
    "collapsed": false
   },
   "outputs": [
    {
     "data": {
      "text/plain": [
       "'Anil'"
      ]
     },
     "execution_count": 22,
     "metadata": {},
     "output_type": "execute_result"
    }
   ],
   "source": [
    "anil.name"
   ]
  },
  {
   "cell_type": "code",
   "execution_count": null,
   "metadata": {
    "collapsed": true
   },
   "outputs": [],
   "source": []
  }
 ],
 "metadata": {
  "kernelspec": {
   "display_name": "Python 2",
   "language": "python",
   "name": "python2"
  },
  "language_info": {
   "codemirror_mode": {
    "name": "ipython",
    "version": 2
   },
   "file_extension": ".py",
   "mimetype": "text/x-python",
   "name": "python",
   "nbconvert_exporter": "python",
   "pygments_lexer": "ipython2",
   "version": "2.7.11"
  }
 },
 "nbformat": 4,
 "nbformat_minor": 0
}
