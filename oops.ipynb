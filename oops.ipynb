{
 "cells": [
  {
   "cell_type": "code",
   "execution_count": 1,
   "metadata": {
    "collapsed": false
   },
   "outputs": [
    {
     "name": "stdout",
     "output_type": "stream",
     "text": [
      "600\n",
      "20000\n"
     ]
    }
   ],
   "source": [
    "def add(a,b):\n",
    "    a=a+100\n",
    "    b=a+200\n",
    "    return a+b\n",
    "def mul(a,b):\n",
    "    return a*b\n",
    "print add(100,200)\n",
    "print mul(100,200)\n",
    "#data abstraction\n",
    "#inheritance\n",
    "#polymorphism\n",
    "#security"
   ]
  },
  {
   "cell_type": "code",
   "execution_count": 3,
   "metadata": {
    "collapsed": false
   },
   "outputs": [
    {
     "name": "stdout",
     "output_type": "stream",
     "text": [
      "(<__main__.c1 instance at 0x7f5bfcfdbb48>, 100, 200)\n",
      "10\n",
      "20\n",
      "1000\n"
     ]
    }
   ],
   "source": [
    "# instance method\n",
    "class c1:\n",
    "    a=10\n",
    "    b=20\n",
    "    def add(*c):\n",
    "        print c\n",
    "o1 = c1()\n",
    "o1.add(100,200)\n",
    "print o1.a\n",
    "print o1.b\n",
    "o1.a=1000\n",
    "print o1.a"
   ]
  },
  {
   "cell_type": "code",
   "execution_count": 4,
   "metadata": {
    "collapsed": false
   },
   "outputs": [
    {
     "ename": "NameError",
     "evalue": "global name 'a' is not defined",
     "output_type": "error",
     "traceback": [
      "\u001b[1;31m---------------------------------------------------------------------------\u001b[0m",
      "\u001b[1;31mNameError\u001b[0m                                 Traceback (most recent call last)",
      "\u001b[1;32m<ipython-input-4-466ab86860c6>\u001b[0m in \u001b[0;36m<module>\u001b[1;34m()\u001b[0m\n\u001b[0;32m      6\u001b[0m         \u001b[1;32mprint\u001b[0m \u001b[0ma\u001b[0m\u001b[1;33m,\u001b[0m\u001b[0mb\u001b[0m\u001b[1;33m\u001b[0m\u001b[0m\n\u001b[0;32m      7\u001b[0m \u001b[0mo1\u001b[0m \u001b[1;33m=\u001b[0m \u001b[0mc1\u001b[0m\u001b[1;33m(\u001b[0m\u001b[1;33m)\u001b[0m\u001b[1;33m\u001b[0m\u001b[0m\n\u001b[1;32m----> 8\u001b[1;33m \u001b[0mo1\u001b[0m\u001b[1;33m.\u001b[0m\u001b[0madd\u001b[0m\u001b[1;33m(\u001b[0m\u001b[1;33m)\u001b[0m\u001b[1;33m\u001b[0m\u001b[0m\n\u001b[0m",
      "\u001b[1;32m<ipython-input-4-466ab86860c6>\u001b[0m in \u001b[0;36madd\u001b[1;34m(s)\u001b[0m\n\u001b[0;32m      4\u001b[0m     \u001b[0mb\u001b[0m\u001b[1;33m=\u001b[0m\u001b[1;36m20\u001b[0m\u001b[1;33m\u001b[0m\u001b[0m\n\u001b[0;32m      5\u001b[0m     \u001b[1;32mdef\u001b[0m \u001b[0madd\u001b[0m\u001b[1;33m(\u001b[0m\u001b[0ms\u001b[0m\u001b[1;33m)\u001b[0m\u001b[1;33m:\u001b[0m\u001b[1;33m\u001b[0m\u001b[0m\n\u001b[1;32m----> 6\u001b[1;33m         \u001b[1;32mprint\u001b[0m \u001b[0ma\u001b[0m\u001b[1;33m,\u001b[0m\u001b[0mb\u001b[0m\u001b[1;33m\u001b[0m\u001b[0m\n\u001b[0m\u001b[0;32m      7\u001b[0m \u001b[0mo1\u001b[0m \u001b[1;33m=\u001b[0m \u001b[0mc1\u001b[0m\u001b[1;33m(\u001b[0m\u001b[1;33m)\u001b[0m\u001b[1;33m\u001b[0m\u001b[0m\n\u001b[0;32m      8\u001b[0m \u001b[0mo1\u001b[0m\u001b[1;33m.\u001b[0m\u001b[0madd\u001b[0m\u001b[1;33m(\u001b[0m\u001b[1;33m)\u001b[0m\u001b[1;33m\u001b[0m\u001b[0m\n",
      "\u001b[1;31mNameError\u001b[0m: global name 'a' is not defined"
     ]
    }
   ],
   "source": [
    "# instance method\n",
    "class c1:\n",
    "    a=10\n",
    "    b=20\n",
    "    def add(s):\n",
    "        print a,b\n",
    "o1 = c1()\n",
    "o1.add()"
   ]
  },
  {
   "cell_type": "code",
   "execution_count": 11,
   "metadata": {
    "collapsed": false
   },
   "outputs": [
    {
     "name": "stdout",
     "output_type": "stream",
     "text": [
      "10 20\n",
      "10 20\n",
      "None\n"
     ]
    }
   ],
   "source": [
    "# instance method\n",
    "class c1:\n",
    "    a=10\n",
    "    b=20\n",
    "    def add1(s):\n",
    "        print s.a,s.b\n",
    "    def operation(s):\n",
    "        print s.add1()\n",
    "        \n",
    "o1 = c1()\n",
    "o1.add1()\n",
    "o1.operation()"
   ]
  },
  {
   "cell_type": "code",
   "execution_count": 12,
   "metadata": {
    "collapsed": false
   },
   "outputs": [
    {
     "ename": "TypeError",
     "evalue": "add1() takes exactly 1 argument (2 given)",
     "output_type": "error",
     "traceback": [
      "\u001b[1;31m---------------------------------------------------------------------------\u001b[0m",
      "\u001b[1;31mTypeError\u001b[0m                                 Traceback (most recent call last)",
      "\u001b[1;32m<ipython-input-12-e25b866a7cc9>\u001b[0m in \u001b[0;36m<module>\u001b[1;34m()\u001b[0m\n\u001b[0;32m      9\u001b[0m \u001b[1;33m\u001b[0m\u001b[0m\n\u001b[0;32m     10\u001b[0m \u001b[0mo1\u001b[0m \u001b[1;33m=\u001b[0m \u001b[0mc1\u001b[0m\u001b[1;33m(\u001b[0m\u001b[1;33m)\u001b[0m\u001b[1;33m\u001b[0m\u001b[0m\n\u001b[1;32m---> 11\u001b[1;33m \u001b[0mo1\u001b[0m\u001b[1;33m.\u001b[0m\u001b[0madd1\u001b[0m\u001b[1;33m(\u001b[0m\u001b[1;36m10\u001b[0m\u001b[1;33m)\u001b[0m\u001b[1;33m\u001b[0m\u001b[0m\n\u001b[0m\u001b[0;32m     12\u001b[0m \u001b[0mo1\u001b[0m\u001b[1;33m.\u001b[0m\u001b[0moperation\u001b[0m\u001b[1;33m(\u001b[0m\u001b[1;33m)\u001b[0m\u001b[1;33m\u001b[0m\u001b[0m\n",
      "\u001b[1;31mTypeError\u001b[0m: add1() takes exactly 1 argument (2 given)"
     ]
    }
   ],
   "source": [
    "# instance method\n",
    "class c1:\n",
    "    a=10\n",
    "    b=20\n",
    "    def add1(s):\n",
    "        print s.a,s.b\n",
    "    def operation(s):\n",
    "        print s.add1()\n",
    "        \n",
    "o1 = c1()\n",
    "o1.add1(10)\n",
    "o1.operation()"
   ]
  },
  {
   "cell_type": "code",
   "execution_count": 13,
   "metadata": {
    "collapsed": false
   },
   "outputs": [
    {
     "ename": "TypeError",
     "evalue": "add1() takes no arguments (1 given)",
     "output_type": "error",
     "traceback": [
      "\u001b[1;31m---------------------------------------------------------------------------\u001b[0m",
      "\u001b[1;31mTypeError\u001b[0m                                 Traceback (most recent call last)",
      "\u001b[1;32m<ipython-input-13-8be933d6743f>\u001b[0m in \u001b[0;36m<module>\u001b[1;34m()\u001b[0m\n\u001b[0;32m      9\u001b[0m \u001b[1;33m\u001b[0m\u001b[0m\n\u001b[0;32m     10\u001b[0m \u001b[0mo1\u001b[0m \u001b[1;33m=\u001b[0m \u001b[0mc1\u001b[0m\u001b[1;33m(\u001b[0m\u001b[1;33m)\u001b[0m\u001b[1;33m\u001b[0m\u001b[0m\n\u001b[1;32m---> 11\u001b[1;33m \u001b[0mo1\u001b[0m\u001b[1;33m.\u001b[0m\u001b[0madd1\u001b[0m\u001b[1;33m(\u001b[0m\u001b[1;33m)\u001b[0m\u001b[1;33m\u001b[0m\u001b[0m\n\u001b[0m\u001b[0;32m     12\u001b[0m \u001b[0mo1\u001b[0m\u001b[1;33m.\u001b[0m\u001b[0moperation\u001b[0m\u001b[1;33m(\u001b[0m\u001b[1;33m)\u001b[0m\u001b[1;33m\u001b[0m\u001b[0m\n",
      "\u001b[1;31mTypeError\u001b[0m: add1() takes no arguments (1 given)"
     ]
    }
   ],
   "source": [
    "# instance method\n",
    "class c1:\n",
    "    a=10\n",
    "    b=20\n",
    "    def add1():\n",
    "        print \"dsfsdfs\"\n",
    "    def operation(s):\n",
    "        print s.add1()\n",
    "        \n",
    "o1 = c1()\n",
    "o1.add1()\n",
    "o1.operation()"
   ]
  },
  {
   "cell_type": "code",
   "execution_count": 15,
   "metadata": {
    "collapsed": false
   },
   "outputs": [],
   "source": [
    "# instance method\n",
    "class c1:\n",
    "    a=10\n",
    "    b=20\n",
    "    def add1(s):\n",
    "        print s.a,s.b\n",
    "    def operation(s):\n",
    "        print s.add1()\n",
    "        \n",
    "o1 = c1()\n",
    "#o1.add1()\n",
    "#o1.operation()"
   ]
  },
  {
   "cell_type": "code",
   "execution_count": 16,
   "metadata": {
    "collapsed": false
   },
   "outputs": [
    {
     "name": "stdout",
     "output_type": "stream",
     "text": [
      "(10, 20)\n",
      "(100, 200)\n"
     ]
    }
   ],
   "source": [
    "# instance method\n",
    "class c1:\n",
    "    a=10\n",
    "    b=20\n",
    "    def get(s):\n",
    "        return s.a,s.b\n",
    "        \n",
    "o1 = c1()\n",
    "o2 = c1()\n",
    "o2.a=100\n",
    "o2.b=200\n",
    "print o1.get()\n",
    "print o2.get()"
   ]
  },
  {
   "cell_type": "code",
   "execution_count": 18,
   "metadata": {
    "collapsed": false
   },
   "outputs": [
    {
     "name": "stdout",
     "output_type": "stream",
     "text": [
      "this is constructor\n"
     ]
    }
   ],
   "source": [
    "# instance method\n",
    "class c1:\n",
    "    def __init__(self):\n",
    "        print \"this is constructor\"\n",
    "    def get(self):\n",
    "        return self.a,self.b  \n",
    "o1=c1()"
   ]
  },
  {
   "cell_type": "code",
   "execution_count": 19,
   "metadata": {
    "collapsed": false
   },
   "outputs": [
    {
     "name": "stdout",
     "output_type": "stream",
     "text": [
      "(100, 200, 300)\n",
      "(1000, 2000, 3000)\n"
     ]
    }
   ],
   "source": [
    "# instance method\n",
    "class c1:\n",
    "    def __init__(self,a,b):\n",
    "        self.a1=a\n",
    "        self.b1=b\n",
    "        c1=a+b\n",
    "        self.c=a+b\n",
    "        \n",
    "    def get(self):\n",
    "        return self.a1,self.b1,self.c\n",
    "o1=c1(100,200)\n",
    "print o1.get()\n",
    "o2=c1(1000,2000)\n",
    "print o2.get()\n"
   ]
  },
  {
   "cell_type": "code",
   "execution_count": 23,
   "metadata": {
    "collapsed": false
   },
   "outputs": [
    {
     "name": "stdout",
     "output_type": "stream",
     "text": [
      "('Ashok', 234556, 23, 10)\n",
      "('Pavan', 234566, 24, 10)\n",
      "('Anil', None, 25, 10)\n"
     ]
    }
   ],
   "source": [
    "class emp:\n",
    "    def __init__(self,**kwargs):\n",
    "        self.name=kwargs.get('name')\n",
    "        self.sal=kwargs.get('sal')\n",
    "        self.age = kwargs.get('age')\n",
    "        self.per = 10\n",
    "    def get(self):\n",
    "        return self.name,self.sal,self.age,self.per\n",
    "ashok = emp(name=\"Ashok\",age=23,sal=234556)\n",
    "pavan = emp(name=\"Pavan\",age=24,sal=234566)\n",
    "anil = emp(name=\"Anil\",age=25)\n",
    "print ashok.get()\n",
    "print pavan.get()\n",
    "print anil.get()"
   ]
  },
  {
   "cell_type": "code",
   "execution_count": 22,
   "metadata": {
    "collapsed": false
   },
   "outputs": [
    {
     "data": {
      "text/plain": [
       "'Anil'"
      ]
     },
     "execution_count": 22,
     "metadata": {},
     "output_type": "execute_result"
    }
   ],
   "source": [
    "anil.name"
   ]
  },
  {
   "cell_type": "code",
   "execution_count": 24,
   "metadata": {
    "collapsed": true
   },
   "outputs": [],
   "source": [
    "anil.per=20"
   ]
  },
  {
   "cell_type": "code",
   "execution_count": 25,
   "metadata": {
    "collapsed": false
   },
   "outputs": [
    {
     "data": {
      "text/plain": [
       "('Anil', None, 25, 20)"
      ]
     },
     "execution_count": 25,
     "metadata": {},
     "output_type": "execute_result"
    }
   ],
   "source": [
    "anil.get()"
   ]
  },
  {
   "cell_type": "code",
   "execution_count": 26,
   "metadata": {
    "collapsed": false
   },
   "outputs": [
    {
     "name": "stdout",
     "output_type": "stream",
     "text": [
      "('Ashok', 234556, 23, 10)\n",
      "('Pavan', 234566, 24, 10)\n",
      "('Pavan', 234566, 24, 10)\n"
     ]
    }
   ],
   "source": [
    "class emp:\n",
    "    def __init__(self,**kwargs):\n",
    "        self.name=kwargs.get('name')\n",
    "        self.sal=kwargs.get('sal')\n",
    "        self.age = kwargs.get('age')\n",
    "        self.__per = 10\n",
    "    def get(self):\n",
    "        return self.name,self.sal,self.age,self.__per\n",
    "ashok = emp(name=\"Ashok\",age=23,sal=234556)\n",
    "pavan = emp(name=\"Pavan\",age=24,sal=234566)\n",
    "print ashok.get()\n",
    "print pavan.get()\n",
    "pavan.__per=20\n",
    "print pavan.get()"
   ]
  },
  {
   "cell_type": "code",
   "execution_count": 27,
   "metadata": {
    "collapsed": false
   },
   "outputs": [
    {
     "name": "stdout",
     "output_type": "stream",
     "text": [
      "('Ashok', 234556, 23, 10)\n",
      "('Pavan', 234566, 24, 10)\n",
      "Pavan\n"
     ]
    },
    {
     "ename": "AttributeError",
     "evalue": "emp instance has no attribute '__per'",
     "output_type": "error",
     "traceback": [
      "\u001b[1;31m---------------------------------------------------------------------------\u001b[0m",
      "\u001b[1;31mAttributeError\u001b[0m                            Traceback (most recent call last)",
      "\u001b[1;32m<ipython-input-27-90928a984328>\u001b[0m in \u001b[0;36m<module>\u001b[1;34m()\u001b[0m\n\u001b[0;32m     12\u001b[0m \u001b[1;32mprint\u001b[0m \u001b[0mpavan\u001b[0m\u001b[1;33m.\u001b[0m\u001b[0mget\u001b[0m\u001b[1;33m(\u001b[0m\u001b[1;33m)\u001b[0m\u001b[1;33m\u001b[0m\u001b[0m\n\u001b[0;32m     13\u001b[0m \u001b[1;32mprint\u001b[0m \u001b[0mpavan\u001b[0m\u001b[1;33m.\u001b[0m\u001b[0mname\u001b[0m\u001b[1;33m\u001b[0m\u001b[0m\n\u001b[1;32m---> 14\u001b[1;33m \u001b[1;32mprint\u001b[0m \u001b[0mpavan\u001b[0m\u001b[1;33m.\u001b[0m\u001b[0m__per\u001b[0m\u001b[1;33m\u001b[0m\u001b[0m\n\u001b[0m",
      "\u001b[1;31mAttributeError\u001b[0m: emp instance has no attribute '__per'"
     ]
    }
   ],
   "source": [
    "class emp:\n",
    "    def __init__(self,**kwargs):\n",
    "        self.name=kwargs.get('name')\n",
    "        self.sal=kwargs.get('sal')\n",
    "        self.age = kwargs.get('age')\n",
    "        self.__per = 10\n",
    "    def get(self):\n",
    "        return self.name,self.sal,self.age,self.__per\n",
    "ashok = emp(name=\"Ashok\",age=23,sal=234556)\n",
    "pavan = emp(name=\"Pavan\",age=24,sal=234566)\n",
    "print ashok.get()\n",
    "print pavan.get()\n",
    "print pavan.name\n",
    "print pavan.__per"
   ]
  },
  {
   "cell_type": "code",
   "execution_count": 29,
   "metadata": {
    "collapsed": false
   },
   "outputs": [
    {
     "name": "stdout",
     "output_type": "stream",
     "text": [
      "('Ashok', 234556, 23, 10, 200)\n",
      "('Pavan', 234566, 24, 10, 200)\n",
      "Pavan\n"
     ]
    }
   ],
   "source": [
    "class emp:\n",
    "    def __init__(self,**kwargs):\n",
    "        self.name=kwargs.get('name')\n",
    "        self.sal=kwargs.get('sal')\n",
    "        self.age = kwargs.get('age')\n",
    "        self.__per = 10\n",
    "    def __set(self,per):\n",
    "        self.per1=per\n",
    "    def get(self):\n",
    "        self.__set(200)\n",
    "        return self.name,self.sal,self.age,self.__per,self.per1\n",
    "ashok = emp(name=\"Ashok\",age=23,sal=234556)\n",
    "pavan = emp(name=\"Pavan\",age=24,sal=234566)\n",
    "print ashok.get()\n",
    "print pavan.get()\n",
    "print pavan.name\n",
    "#print pavan.__set(20)"
   ]
  },
  {
   "cell_type": "code",
   "execution_count": 30,
   "metadata": {
    "collapsed": false
   },
   "outputs": [
    {
     "name": "stdout",
     "output_type": "stream",
     "text": [
      "oper1\n",
      "oper3\n"
     ]
    }
   ],
   "source": [
    "class c1:\n",
    "    def oper1(self):\n",
    "        print \"oper1\"\n",
    "class c3:\n",
    "    def oper3(self):\n",
    "        print \"oper3\"\n",
    "        \n",
    "class c2:\n",
    "    def operations(self):\n",
    "        o1=c1()\n",
    "        o1.oper1()\n",
    "        o3=c3()\n",
    "        o3.oper3()\n",
    "o2 = c2()\n",
    "o2.operations()\n",
    "        "
   ]
  },
  {
   "cell_type": "code",
   "execution_count": 31,
   "metadata": {
    "collapsed": false
   },
   "outputs": [
    {
     "name": "stdout",
     "output_type": "stream",
     "text": [
      "oper1\n",
      "oper3\n"
     ]
    }
   ],
   "source": [
    "class c1:\n",
    "    def oper1(self):\n",
    "        print \"oper1\"\n",
    "class c3:\n",
    "    def oper3(self):\n",
    "        print \"oper3\"\n",
    "        \n",
    "class c2(c1,c3):\n",
    "    def operations(self):\n",
    "        self.oper1()\n",
    "        self.oper3()\n",
    "o2 = c2()\n",
    "o2.operations()\n",
    "        "
   ]
  },
  {
   "cell_type": "code",
   "execution_count": 34,
   "metadata": {
    "collapsed": false
   },
   "outputs": [
    {
     "name": "stdout",
     "output_type": "stream",
     "text": [
      "oper1 in c2\n",
      "None\n",
      "100\n",
      "None\n"
     ]
    }
   ],
   "source": [
    "class c1:\n",
    "    def oper1(self):\n",
    "        print \"oper1\"\n",
    "class c3:\n",
    "    def oper3(self):\n",
    "        return 100\n",
    "        \n",
    "class c2(c1,c3):\n",
    "    def operations(self):\n",
    "        self.oper1()\n",
    "        self.a=self.oper3()\n",
    "        \n",
    "    def oper1(self):\n",
    "        print \"oper1 in c2\"\n",
    "    def oper4(self):\n",
    "        print self.a\n",
    "o2 = c2()\n",
    "print o2.operations()\n",
    "print o2.oper4()     "
   ]
  },
  {
   "cell_type": "code",
   "execution_count": 35,
   "metadata": {
    "collapsed": true
   },
   "outputs": [],
   "source": [
    "class c1:\n",
    "    def oper1(self):\n",
    "        print \"oper1\"\n",
    "class c3:\n",
    "    def oper3(self):\n",
    "        return 100\n",
    "        \n",
    "class c2(c1):\n",
    "    def operations(self):\n",
    "        self.oper1()\n",
    "        #self.a=self.oper3()\n",
    "        \n",
    "    def oper1(self):\n",
    "        print \"oper1 in c2\"\n",
    "    def oper4(self):\n",
    "        print \"oper4\""
   ]
  },
  {
   "cell_type": "code",
   "execution_count": 36,
   "metadata": {
    "collapsed": false
   },
   "outputs": [
    {
     "name": "stdout",
     "output_type": "stream",
     "text": [
      "oper1 in c2\n"
     ]
    }
   ],
   "source": [
    "class c1:\n",
    "    def oper1(self):\n",
    "        print \"oper1\"\n",
    "class c3(c1):\n",
    "    def oper3(self):\n",
    "        return 100\n",
    "        \n",
    "class c2(c3):\n",
    "    def operations(self):\n",
    "        self.oper1()\n",
    "        self.a=self.oper3()\n",
    "        \n",
    "    def oper1(self):\n",
    "        print \"oper1 in c2\"\n",
    "    def oper4(self):\n",
    "        print \"oper4\"\n",
    "o2=c2()\n",
    "o2.operations()"
   ]
  },
  {
   "cell_type": "code",
   "execution_count": 37,
   "metadata": {
    "collapsed": false
   },
   "outputs": [
    {
     "name": "stdout",
     "output_type": "stream",
     "text": [
      "constructor in c2\n"
     ]
    }
   ],
   "source": [
    "class c1:\n",
    "    def __init__(self):\n",
    "        print \"constructor in c1\"\n",
    "class c2(c1):\n",
    "    def __init__(self):\n",
    "        print \"constructor in c2\" \n",
    "o2=c2()"
   ]
  },
  {
   "cell_type": "code",
   "execution_count": 38,
   "metadata": {
    "collapsed": false
   },
   "outputs": [
    {
     "name": "stdout",
     "output_type": "stream",
     "text": [
      "constructor in c1\n"
     ]
    }
   ],
   "source": [
    "class c1:\n",
    "    def __init__(self):\n",
    "        print \"constructor in c1\"\n",
    "class c2(c1):\n",
    "    def per(self):\n",
    "        print \"sdfsd\"\n",
    "o2=c2()"
   ]
  },
  {
   "cell_type": "code",
   "execution_count": 39,
   "metadata": {
    "collapsed": true
   },
   "outputs": [],
   "source": [
    "class c1:\n",
    "    def __init__(self,a):\n",
    "        self.a=a\n",
    "class c2(c1):\n",
    "    def __init__(self,b):\n",
    "        self.b=b\n",
    "    def per(self):\n",
    "        print self.a,self.b\n",
    "o2=c2(20)"
   ]
  },
  {
   "cell_type": "code",
   "execution_count": 41,
   "metadata": {
    "collapsed": false
   },
   "outputs": [
    {
     "ename": "AttributeError",
     "evalue": "c2 instance has no attribute 'a'",
     "output_type": "error",
     "traceback": [
      "\u001b[1;31m---------------------------------------------------------------------------\u001b[0m",
      "\u001b[1;31mAttributeError\u001b[0m                            Traceback (most recent call last)",
      "\u001b[1;32m<ipython-input-41-27e4d87172e3>\u001b[0m in \u001b[0;36m<module>\u001b[1;34m()\u001b[0m\n\u001b[1;32m----> 1\u001b[1;33m \u001b[0mo2\u001b[0m\u001b[1;33m.\u001b[0m\u001b[0mper\u001b[0m\u001b[1;33m(\u001b[0m\u001b[1;33m)\u001b[0m\u001b[1;33m\u001b[0m\u001b[0m\n\u001b[0m",
      "\u001b[1;32m<ipython-input-39-72fba66ccd3f>\u001b[0m in \u001b[0;36mper\u001b[1;34m(self)\u001b[0m\n\u001b[0;32m      6\u001b[0m         \u001b[0mself\u001b[0m\u001b[1;33m.\u001b[0m\u001b[0mb\u001b[0m\u001b[1;33m=\u001b[0m\u001b[0mb\u001b[0m\u001b[1;33m\u001b[0m\u001b[0m\n\u001b[0;32m      7\u001b[0m     \u001b[1;32mdef\u001b[0m \u001b[0mper\u001b[0m\u001b[1;33m(\u001b[0m\u001b[0mself\u001b[0m\u001b[1;33m)\u001b[0m\u001b[1;33m:\u001b[0m\u001b[1;33m\u001b[0m\u001b[0m\n\u001b[1;32m----> 8\u001b[1;33m         \u001b[1;32mprint\u001b[0m \u001b[0mself\u001b[0m\u001b[1;33m.\u001b[0m\u001b[0ma\u001b[0m\u001b[1;33m,\u001b[0m\u001b[0mself\u001b[0m\u001b[1;33m.\u001b[0m\u001b[0mb\u001b[0m\u001b[1;33m\u001b[0m\u001b[0m\n\u001b[0m\u001b[0;32m      9\u001b[0m \u001b[0mo2\u001b[0m\u001b[1;33m=\u001b[0m\u001b[0mc2\u001b[0m\u001b[1;33m(\u001b[0m\u001b[1;36m20\u001b[0m\u001b[1;33m)\u001b[0m\u001b[1;33m\u001b[0m\u001b[0m\n",
      "\u001b[1;31mAttributeError\u001b[0m: c2 instance has no attribute 'a'"
     ]
    }
   ],
   "source": [
    "o2.per()"
   ]
  },
  {
   "cell_type": "code",
   "execution_count": 42,
   "metadata": {
    "collapsed": true
   },
   "outputs": [],
   "source": [
    "class c1(object):\n",
    "    def __init__(self,a):\n",
    "        self.a=a\n",
    "class c2(c1):\n",
    "    def __init__(self,a,b):\n",
    "        self.b=b\n",
    "        super(c2,self).__init__(a)\n",
    "    def per(self):\n",
    "        print self.a,self.b\n",
    "o2=c2(20,200)"
   ]
  },
  {
   "cell_type": "code",
   "execution_count": 43,
   "metadata": {
    "collapsed": false
   },
   "outputs": [
    {
     "name": "stdout",
     "output_type": "stream",
     "text": [
      "20 200\n"
     ]
    }
   ],
   "source": [
    "o2.per()"
   ]
  },
  {
   "cell_type": "code",
   "execution_count": 45,
   "metadata": {
    "collapsed": false
   },
   "outputs": [
    {
     "name": "stdout",
     "output_type": "stream",
     "text": [
      "insert data: 10 20\n",
      "check the data 100 200\n",
      "insert data: 100 200\n"
     ]
    }
   ],
   "source": [
    "class model:\n",
    "    def create(self,a,b):\n",
    "        print \"insert data:\",a,b\n",
    "class model1(model):\n",
    "    pass\n",
    "class model2(model):\n",
    "    def create(self,a,b):\n",
    "        print \"check the data\",a,b\n",
    "        print \"insert data:\",a,b\n",
    "m1 = model1()\n",
    "m1.create(10,20)\n",
    "m2= model2()\n",
    "m2.create(100,200)"
   ]
  },
  {
   "cell_type": "code",
   "execution_count": 50,
   "metadata": {
    "collapsed": false
   },
   "outputs": [
    {
     "name": "stdout",
     "output_type": "stream",
     "text": [
      "insert data: 10 20\n",
      "check the data 100 200\n",
      "insert data: 100 200\n"
     ]
    }
   ],
   "source": [
    "class model(object):\n",
    "    def create(self,a,b):\n",
    "        print \"insert data:\",a,b\n",
    "class model1(model):\n",
    "    pass\n",
    "class model2(model):\n",
    "    def create(self,a,b):\n",
    "        print \"check the data\",a,b\n",
    "        if True:\n",
    "            super(model2,self).create(a,b)\n",
    "m1 = model1()\n",
    "m1.create(10,20)\n",
    "m2= model2()\n",
    "m2.create(100,200)"
   ]
  },
  {
   "cell_type": "code",
   "execution_count": 51,
   "metadata": {
    "collapsed": true
   },
   "outputs": [],
   "source": [
    "# polymorphism\n",
    "#method overriding\n",
    "#method overloading(function name is same but the number of arguments is different)"
   ]
  },
  {
   "cell_type": "code",
   "execution_count": 52,
   "metadata": {
    "collapsed": false
   },
   "outputs": [
    {
     "ename": "TypeError",
     "evalue": "fun() takes exactly 3 arguments (2 given)",
     "output_type": "error",
     "traceback": [
      "\u001b[1;31m---------------------------------------------------------------------------\u001b[0m",
      "\u001b[1;31mTypeError\u001b[0m                                 Traceback (most recent call last)",
      "\u001b[1;32m<ipython-input-52-c9f10001ce8f>\u001b[0m in \u001b[0;36m<module>\u001b[1;34m()\u001b[0m\n\u001b[0;32m      5\u001b[0m \u001b[1;32mdef\u001b[0m \u001b[0mfun\u001b[0m\u001b[1;33m(\u001b[0m\u001b[0ma\u001b[0m\u001b[1;33m,\u001b[0m\u001b[0mb\u001b[0m\u001b[1;33m,\u001b[0m\u001b[0mc\u001b[0m\u001b[1;33m)\u001b[0m\u001b[1;33m:\u001b[0m\u001b[1;33m\u001b[0m\u001b[0m\n\u001b[0;32m      6\u001b[0m     \u001b[1;32mreturn\u001b[0m \u001b[0ma\u001b[0m\u001b[1;33m+\u001b[0m\u001b[0mb\u001b[0m\u001b[1;33m+\u001b[0m\u001b[0mc\u001b[0m\u001b[1;33m\u001b[0m\u001b[0m\n\u001b[1;32m----> 7\u001b[1;33m \u001b[1;32mprint\u001b[0m \u001b[0mfun\u001b[0m\u001b[1;33m(\u001b[0m\u001b[1;36m10\u001b[0m\u001b[1;33m,\u001b[0m\u001b[1;36m20\u001b[0m\u001b[1;33m)\u001b[0m\u001b[1;33m\u001b[0m\u001b[0m\n\u001b[0m",
      "\u001b[1;31mTypeError\u001b[0m: fun() takes exactly 3 arguments (2 given)"
     ]
    }
   ],
   "source": [
    "# fuction overloading\n",
    "\n",
    "def fun(a,b):\n",
    "    return a+b\n",
    "def fun(a,b,c):\n",
    "    return a+b+c\n",
    "print fun(10,20)\n"
   ]
  },
  {
   "cell_type": "code",
   "execution_count": 53,
   "metadata": {
    "collapsed": true
   },
   "outputs": [],
   "source": [
    "a=10\n",
    "a=100"
   ]
  },
  {
   "cell_type": "code",
   "execution_count": 54,
   "metadata": {
    "collapsed": false
   },
   "outputs": [
    {
     "data": {
      "text/plain": [
       "100"
      ]
     },
     "execution_count": 54,
     "metadata": {},
     "output_type": "execute_result"
    }
   ],
   "source": [
    "a"
   ]
  },
  {
   "cell_type": "code",
   "execution_count": 55,
   "metadata": {
    "collapsed": false
   },
   "outputs": [
    {
     "name": "stdout",
     "output_type": "stream",
     "text": [
      "30\n",
      "60\n",
      "10\n"
     ]
    }
   ],
   "source": [
    "def fun(*a):\n",
    "    return sum(a)\n",
    "print fun(10,20)\n",
    "print fun(10,20,30)\n",
    "print fun(10)"
   ]
  },
  {
   "cell_type": "code",
   "execution_count": 56,
   "metadata": {
    "collapsed": false
   },
   "outputs": [
    {
     "name": "stdout",
     "output_type": "stream",
     "text": [
      "30\n",
      "[1, 2, 3, 4, 5, 6, 7, 8]\n",
      "str1str2\n"
     ]
    }
   ],
   "source": [
    "# operator overloading\n",
    "l1=[1,2,3,4]\n",
    "l2=[5,6,7,8]\n",
    "s1=\"str1\"\n",
    "s2=\"str2\"\n",
    "i1=10\n",
    "i2=20\n",
    "print i1+i2\n",
    "print l1+l2\n",
    "print s1+s2"
   ]
  },
  {
   "cell_type": "code",
   "execution_count": 57,
   "metadata": {
    "collapsed": false
   },
   "outputs": [
    {
     "ename": "TypeError",
     "evalue": "unsupported operand type(s) for +: 'instance' and 'instance'",
     "output_type": "error",
     "traceback": [
      "\u001b[1;31m---------------------------------------------------------------------------\u001b[0m",
      "\u001b[1;31mTypeError\u001b[0m                                 Traceback (most recent call last)",
      "\u001b[1;32m<ipython-input-57-2db1e9958892>\u001b[0m in \u001b[0;36m<module>\u001b[1;34m()\u001b[0m\n\u001b[0;32m      5\u001b[0m \u001b[0mo1\u001b[0m\u001b[1;33m=\u001b[0m\u001b[0mc1\u001b[0m\u001b[1;33m(\u001b[0m\u001b[1;36m10\u001b[0m\u001b[1;33m,\u001b[0m\u001b[1;36m20\u001b[0m\u001b[1;33m)\u001b[0m\u001b[1;33m\u001b[0m\u001b[0m\n\u001b[0;32m      6\u001b[0m \u001b[0mo2\u001b[0m\u001b[1;33m=\u001b[0m\u001b[0mc1\u001b[0m\u001b[1;33m(\u001b[0m\u001b[1;36m100\u001b[0m\u001b[1;33m,\u001b[0m\u001b[1;36m200\u001b[0m\u001b[1;33m)\u001b[0m\u001b[1;33m\u001b[0m\u001b[0m\n\u001b[1;32m----> 7\u001b[1;33m \u001b[1;32mprint\u001b[0m \u001b[0mo1\u001b[0m\u001b[1;33m+\u001b[0m\u001b[0mo2\u001b[0m\u001b[1;33m\u001b[0m\u001b[0m\n\u001b[0m",
      "\u001b[1;31mTypeError\u001b[0m: unsupported operand type(s) for +: 'instance' and 'instance'"
     ]
    }
   ],
   "source": [
    "class c1:\n",
    "    def __init__(self,a,b):\n",
    "        self.a=a\n",
    "        self.b=b\n",
    "o1=c1(10,20)\n",
    "o2=c1(100,200)\n",
    "print o1+o2"
   ]
  },
  {
   "cell_type": "code",
   "execution_count": 60,
   "metadata": {
    "collapsed": false
   },
   "outputs": [
    {
     "name": "stdout",
     "output_type": "stream",
     "text": [
      "(110, 220)\n"
     ]
    }
   ],
   "source": [
    "class c1(object):\n",
    "    def __init__(self,a,b):\n",
    "        self.a=a\n",
    "        self.b=b\n",
    "    def __add__(self1,self2):\n",
    "        return self1.a+self2.a,self1.b+self2.b\n",
    "o1=c1(10,20)\n",
    "o2=c1(100,200)\n",
    "print o1+o2"
   ]
  },
  {
   "cell_type": "code",
   "execution_count": null,
   "metadata": {
    "collapsed": true
   },
   "outputs": [],
   "source": []
  }
 ],
 "metadata": {
  "kernelspec": {
   "display_name": "Python 2",
   "language": "python",
   "name": "python2"
  },
  "language_info": {
   "codemirror_mode": {
    "name": "ipython",
    "version": 2
   },
   "file_extension": ".py",
   "mimetype": "text/x-python",
   "name": "python",
   "nbconvert_exporter": "python",
   "pygments_lexer": "ipython2",
   "version": "2.7.11"
  }
 },
 "nbformat": 4,
 "nbformat_minor": 0
}
