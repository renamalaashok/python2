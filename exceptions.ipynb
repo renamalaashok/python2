{
 "cells": [
  {
   "cell_type": "code",
   "execution_count": 1,
   "metadata": {
    "collapsed": false
   },
   "outputs": [
    {
     "name": "stdout",
     "output_type": "stream",
     "text": [
      "program started\n",
      "Enter data1:10\n",
      "enter data2:12\n",
      "0\n",
      "other statement sin program\n",
      "program ended\n"
     ]
    }
   ],
   "source": [
    "print \"program started\"\n",
    "a=raw_input(\"Enter data1:\")\n",
    "b=raw_input(\"enter data2:\")\n",
    "a=int(a)\n",
    "b=int(b)\n",
    "c=a/b\n",
    "print c\n",
    "print \"other statement sin program\"\n",
    "print \"program ended\""
   ]
  },
  {
   "cell_type": "code",
   "execution_count": 3,
   "metadata": {
    "collapsed": false
   },
   "outputs": [
    {
     "name": "stdout",
     "output_type": "stream",
     "text": [
      "program started\n",
      "Enter data1:12\n",
      "enter data2:wer4\n"
     ]
    },
    {
     "ename": "ValueError",
     "evalue": "invalid literal for int() with base 10: 'wer4'",
     "output_type": "error",
     "traceback": [
      "\u001b[1;31m---------------------------------------------------------------------------\u001b[0m",
      "\u001b[1;31mValueError\u001b[0m                                Traceback (most recent call last)",
      "\u001b[1;32m<ipython-input-3-c56ceb341492>\u001b[0m in \u001b[0;36m<module>\u001b[1;34m()\u001b[0m\n\u001b[0;32m      3\u001b[0m \u001b[0mb\u001b[0m\u001b[1;33m=\u001b[0m\u001b[0mraw_input\u001b[0m\u001b[1;33m(\u001b[0m\u001b[1;34m\"enter data2:\"\u001b[0m\u001b[1;33m)\u001b[0m\u001b[1;33m\u001b[0m\u001b[0m\n\u001b[0;32m      4\u001b[0m \u001b[0ma\u001b[0m\u001b[1;33m=\u001b[0m\u001b[0mint\u001b[0m\u001b[1;33m(\u001b[0m\u001b[0ma\u001b[0m\u001b[1;33m)\u001b[0m\u001b[1;33m\u001b[0m\u001b[0m\n\u001b[1;32m----> 5\u001b[1;33m \u001b[0mb\u001b[0m\u001b[1;33m=\u001b[0m\u001b[0mint\u001b[0m\u001b[1;33m(\u001b[0m\u001b[0mb\u001b[0m\u001b[1;33m)\u001b[0m\u001b[1;33m\u001b[0m\u001b[0m\n\u001b[0m\u001b[0;32m      6\u001b[0m \u001b[0mc\u001b[0m\u001b[1;33m=\u001b[0m\u001b[0ma\u001b[0m\u001b[1;33m/\u001b[0m\u001b[0mb\u001b[0m\u001b[1;33m\u001b[0m\u001b[0m\n\u001b[0;32m      7\u001b[0m \u001b[1;32mprint\u001b[0m \u001b[0mc\u001b[0m\u001b[1;33m\u001b[0m\u001b[0m\n",
      "\u001b[1;31mValueError\u001b[0m: invalid literal for int() with base 10: 'wer4'"
     ]
    }
   ],
   "source": [
    "print \"program started\"\n",
    "a=raw_input(\"Enter data1:\")\n",
    "b=raw_input(\"enter data2:\")\n",
    "a=int(a)\n",
    "b=int(b)\n",
    "c=a/b\n",
    "print c\n",
    "print \"other statement sin program\"\n",
    "print \"program ended\""
   ]
  },
  {
   "cell_type": "code",
   "execution_count": 4,
   "metadata": {
    "collapsed": false
   },
   "outputs": [
    {
     "name": "stdout",
     "output_type": "stream",
     "text": [
      "program started\n",
      "Enter data1:12\n",
      "enter data2:6\n",
      "2\n",
      "other statement sin program\n",
      "program ended\n"
     ]
    }
   ],
   "source": [
    "try:\n",
    "    print \"program started\"\n",
    "    a=raw_input(\"Enter data1:\")\n",
    "    b=raw_input(\"enter data2:\")\n",
    "    a=int(a)\n",
    "    b=int(b)\n",
    "    c=a/b\n",
    "    print c\n",
    "    print \"other statement sin program\"\n",
    "    print \"program ended\"\n",
    "except:\n",
    "    print \"Somethong went wrong\""
   ]
  },
  {
   "cell_type": "code",
   "execution_count": 5,
   "metadata": {
    "collapsed": false
   },
   "outputs": [
    {
     "name": "stdout",
     "output_type": "stream",
     "text": [
      "program started\n",
      "Enter data1:12\n",
      "enter data2:wer\n",
      "Somethong went wrong\n"
     ]
    }
   ],
   "source": [
    "try:\n",
    "    print \"program started\"\n",
    "    a=raw_input(\"Enter data1:\")\n",
    "    b=raw_input(\"enter data2:\")\n",
    "    a=int(a)\n",
    "    b=int(b)\n",
    "    c=a/b\n",
    "    print c\n",
    "    print \"other statement sin program\"\n",
    "    print \"program ended\"\n",
    "except:\n",
    "    print \"Somethong went wrong\""
   ]
  },
  {
   "cell_type": "code",
   "execution_count": 6,
   "metadata": {
    "collapsed": false
   },
   "outputs": [
    {
     "name": "stdout",
     "output_type": "stream",
     "text": [
      "program started\n",
      "Enter data1:12\n",
      "enter data2:34\n",
      "0\n",
      "other statement sin program\n",
      "program ended\n"
     ]
    }
   ],
   "source": [
    "print \"program started\"\n",
    "a=raw_input(\"Enter data1:\")\n",
    "b=raw_input(\"enter data2:\")\n",
    "try:\n",
    "    a=int(a)\n",
    "    b=int(b)\n",
    "    c=a/b\n",
    "    print c\n",
    "except:\n",
    "    print \"Somethong went wrong\"\n",
    "print \"other statement sin program\"\n",
    "print \"program ended\""
   ]
  },
  {
   "cell_type": "code",
   "execution_count": 7,
   "metadata": {
    "collapsed": false
   },
   "outputs": [
    {
     "name": "stdout",
     "output_type": "stream",
     "text": [
      "program started\n",
      "Enter data1:wer\n",
      "enter data2:23\n",
      "Somethong went wrong\n",
      "other statement sin program\n",
      "program ended\n"
     ]
    }
   ],
   "source": [
    "print \"program started\"\n",
    "a=raw_input(\"Enter data1:\")\n",
    "b=raw_input(\"enter data2:\")\n",
    "try:\n",
    "    a=int(a)\n",
    "    b=int(b)\n",
    "    c=a/b\n",
    "    print c\n",
    "except:\n",
    "    print \"Somethong went wrong\"\n",
    "print \"other statement sin program\"\n",
    "print \"program ended\""
   ]
  },
  {
   "cell_type": "code",
   "execution_count": 8,
   "metadata": {
    "collapsed": false
   },
   "outputs": [
    {
     "name": "stdout",
     "output_type": "stream",
     "text": [
      "program started\n",
      "Enter data1:12\n",
      "enter data2:6\n",
      "2\n",
      "other statement sin program\n",
      "program ended\n"
     ]
    }
   ],
   "source": [
    "print \"program started\"\n",
    "a=raw_input(\"Enter data1:\")\n",
    "b=raw_input(\"enter data2:\")\n",
    "try:\n",
    "    a=int(a)\n",
    "    b=int(b)\n",
    "    c=a/b\n",
    "    print c\n",
    "except:\n",
    "    print \"Enter only digits\"\n",
    "print \"other statement sin program\"\n",
    "print \"program ended\""
   ]
  },
  {
   "cell_type": "code",
   "execution_count": 9,
   "metadata": {
    "collapsed": false
   },
   "outputs": [
    {
     "name": "stdout",
     "output_type": "stream",
     "text": [
      "program started\n",
      "Enter data1:12\n",
      "enter data2:wer\n",
      "Enter only digits\n",
      "other statement sin program\n",
      "program ended\n"
     ]
    }
   ],
   "source": [
    "print \"program started\"\n",
    "a=raw_input(\"Enter data1:\")\n",
    "b=raw_input(\"enter data2:\")\n",
    "try:\n",
    "    a=int(a)\n",
    "    b=int(b)\n",
    "    c=a/b\n",
    "    print c\n",
    "except:\n",
    "    print \"Enter only digits\"\n",
    "print \"other statement sin program\"\n",
    "print \"program ended\""
   ]
  },
  {
   "cell_type": "code",
   "execution_count": 10,
   "metadata": {
    "collapsed": false
   },
   "outputs": [
    {
     "name": "stdout",
     "output_type": "stream",
     "text": [
      "program started\n",
      "Enter data1:12\n",
      "enter data2:0\n",
      "Enter only digits\n",
      "other statement sin program\n",
      "program ended\n"
     ]
    }
   ],
   "source": [
    "print \"program started\"\n",
    "a=raw_input(\"Enter data1:\")\n",
    "b=raw_input(\"enter data2:\")\n",
    "try:\n",
    "    a=int(a)\n",
    "    b=int(b)\n",
    "    c=a/b\n",
    "    print c\n",
    "except:\n",
    "    print \"Enter only digits\"\n",
    "print \"other statement sin program\"\n",
    "print \"program ended\""
   ]
  },
  {
   "cell_type": "code",
   "execution_count": 11,
   "metadata": {
    "collapsed": false
   },
   "outputs": [
    {
     "name": "stdout",
     "output_type": "stream",
     "text": [
      "program started\n",
      "Enter data1:12\n",
      "enter data2:6\n",
      "2\n",
      "other statement sin program\n",
      "program ended\n"
     ]
    }
   ],
   "source": [
    "print \"program started\"\n",
    "a=raw_input(\"Enter data1:\")\n",
    "b=raw_input(\"enter data2:\")\n",
    "try:\n",
    "    a=int(a)\n",
    "    b=int(b)\n",
    "    c=a/b\n",
    "    print c\n",
    "except Exception as err:\n",
    "    print err\n",
    "print \"other statement sin program\"\n",
    "print \"program ended\""
   ]
  },
  {
   "cell_type": "code",
   "execution_count": 12,
   "metadata": {
    "collapsed": false
   },
   "outputs": [
    {
     "name": "stdout",
     "output_type": "stream",
     "text": [
      "program started\n",
      "Enter data1:12\n",
      "enter data2:er\n",
      "invalid literal for int() with base 10: 'er'\n",
      "other statement sin program\n",
      "program ended\n"
     ]
    }
   ],
   "source": [
    "print \"program started\"\n",
    "a=raw_input(\"Enter data1:\")\n",
    "b=raw_input(\"enter data2:\")\n",
    "try:\n",
    "    a=int(a)\n",
    "    b=int(b)\n",
    "    c=a/b\n",
    "    print c\n",
    "except Exception as err:\n",
    "    print err\n",
    "print \"other statement sin program\"\n",
    "print \"program ended\""
   ]
  },
  {
   "cell_type": "code",
   "execution_count": 13,
   "metadata": {
    "collapsed": false
   },
   "outputs": [
    {
     "name": "stdout",
     "output_type": "stream",
     "text": [
      "program started\n",
      "Enter data1:12\n",
      "enter data2:0\n",
      "integer division or modulo by zero\n",
      "other statement sin program\n",
      "program ended\n"
     ]
    }
   ],
   "source": [
    "print \"program started\"\n",
    "a=raw_input(\"Enter data1:\")\n",
    "b=raw_input(\"enter data2:\")\n",
    "try:\n",
    "    a=int(a)\n",
    "    b=int(b)\n",
    "    c=a/b\n",
    "    print c\n",
    "except Exception as err:\n",
    "    print err\n",
    "print \"other statement sin program\"\n",
    "print \"program ended\""
   ]
  },
  {
   "cell_type": "code",
   "execution_count": 14,
   "metadata": {
    "collapsed": false
   },
   "outputs": [
    {
     "name": "stdout",
     "output_type": "stream",
     "text": [
      "program started\n",
      "Enter data1:12\n",
      "enter data2:6\n",
      "2\n",
      "other statement sin program\n",
      "program ended\n"
     ]
    }
   ],
   "source": [
    "print \"program started\"\n",
    "a=raw_input(\"Enter data1:\")\n",
    "b=raw_input(\"enter data2:\")\n",
    "try:\n",
    "    a=int(a)\n",
    "    b=int(b)\n",
    "    c=a/b\n",
    "    print c\n",
    "except ValueError:\n",
    "    print \"Enter only digits\"\n",
    "except ZeroDivisionError:\n",
    "    print \"b is not equals to zero\"\n",
    "except Exception as err:\n",
    "    print err\n",
    "print \"other statement sin program\"\n",
    "print \"program ended\""
   ]
  },
  {
   "cell_type": "code",
   "execution_count": 15,
   "metadata": {
    "collapsed": false
   },
   "outputs": [
    {
     "name": "stdout",
     "output_type": "stream",
     "text": [
      "program started\n",
      "Enter data1:12\n",
      "enter data2:0\n",
      "b is not equals to zero\n",
      "other statement sin program\n",
      "program ended\n"
     ]
    }
   ],
   "source": [
    "print \"program started\"\n",
    "a=raw_input(\"Enter data1:\")\n",
    "b=raw_input(\"enter data2:\")\n",
    "try:\n",
    "    a=int(a)\n",
    "    b=int(b)\n",
    "    c=a/b\n",
    "    print c\n",
    "except ValueError:\n",
    "    print \"Enter only digits\"\n",
    "except ZeroDivisionError:\n",
    "    print \"b is not equals to zero\"\n",
    "except Exception as err:\n",
    "    print err\n",
    "print \"other statement sin program\"\n",
    "print \"program ended\""
   ]
  },
  {
   "cell_type": "code",
   "execution_count": 16,
   "metadata": {
    "collapsed": false
   },
   "outputs": [
    {
     "name": "stdout",
     "output_type": "stream",
     "text": [
      "program started\n",
      "Enter data1:\n",
      "enter data2:23\n",
      "Enter only digits\n",
      "other statement sin program\n",
      "program ended\n"
     ]
    }
   ],
   "source": [
    "print \"program started\"\n",
    "a=raw_input(\"Enter data1:\")\n",
    "b=raw_input(\"enter data2:\")\n",
    "try:\n",
    "    a=int(a)\n",
    "    b=int(b)\n",
    "    c=a/b\n",
    "    print c\n",
    "except ValueError:\n",
    "    print \"Enter only digits\"\n",
    "except ZeroDivisionError:\n",
    "    print \"b is not equals to zero\"\n",
    "except Exception as err:\n",
    "    print err\n",
    "print \"other statement sin program\"\n",
    "print \"program ended\""
   ]
  },
  {
   "cell_type": "markdown",
   "metadata": {},
   "source": [
    "# "
   ]
  },
  {
   "cell_type": "code",
   "execution_count": 17,
   "metadata": {
    "collapsed": false
   },
   "outputs": [
    {
     "name": "stdout",
     "output_type": "stream",
     "text": [
      "program started\n",
      "Enter data1:12\n",
      "enter data2:6\n",
      "2\n",
      "finally block\n",
      "other statement sin program\n",
      "program ended\n"
     ]
    }
   ],
   "source": [
    "print \"program started\"\n",
    "a=raw_input(\"Enter data1:\")\n",
    "b=raw_input(\"enter data2:\")\n",
    "try:\n",
    "    a=int(a)\n",
    "    b=int(b)\n",
    "    c=a/b\n",
    "    print c\n",
    "except ValueError:\n",
    "    print \"Enter only digits\"\n",
    "except ZeroDivisionError:\n",
    "    print \"b is not equals to zero\"\n",
    "except Exception as err:\n",
    "    print err\n",
    "finally:\n",
    "    print \"finally block\"\n",
    "print \"other statement sin program\"\n",
    "print \"program ended\"\n"
   ]
  },
  {
   "cell_type": "code",
   "execution_count": 19,
   "metadata": {
    "collapsed": false
   },
   "outputs": [
    {
     "name": "stdout",
     "output_type": "stream",
     "text": [
      "program started\n",
      "Enter data1:12\n",
      "enter data2:0\n",
      "b is not equals to zero\n",
      "finally block\n",
      "other statement sin program\n",
      "program ended\n"
     ]
    }
   ],
   "source": [
    "print \"program started\"\n",
    "a=raw_input(\"Enter data1:\")\n",
    "b=raw_input(\"enter data2:\")\n",
    "try:\n",
    "    a=int(a)\n",
    "    b=int(b)\n",
    "    c=a/b\n",
    "    print c\n",
    "except ValueError:\n",
    "    print \"Enter only digits\"\n",
    "except ZeroDivisionError:\n",
    "    print \"b is not equals to zero\"\n",
    "except Exception as err:\n",
    "    print err\n",
    "finally:\n",
    "    print \"finally block\"\n",
    "print \"other statement sin program\"\n",
    "print \"program ended\"\n"
   ]
  },
  {
   "cell_type": "code",
   "execution_count": 20,
   "metadata": {
    "collapsed": false
   },
   "outputs": [
    {
     "name": "stdout",
     "output_type": "stream",
     "text": [
      "2\n"
     ]
    }
   ],
   "source": [
    "def fun2():\n",
    "    return 2\n",
    "    return 3\n",
    "b=fun2()\n",
    "print b"
   ]
  },
  {
   "cell_type": "code",
   "execution_count": 21,
   "metadata": {
    "collapsed": false
   },
   "outputs": [
    {
     "name": "stdout",
     "output_type": "stream",
     "text": [
      "3\n"
     ]
    }
   ],
   "source": [
    "def fun():\n",
    "    try:\n",
    "        return 1\n",
    "    except:\n",
    "        return 2\n",
    "    finally:\n",
    "        return 3\n",
    "b=fun()\n",
    "print b"
   ]
  },
  {
   "cell_type": "code",
   "execution_count": null,
   "metadata": {
    "collapsed": true
   },
   "outputs": [],
   "source": []
  }
 ],
 "metadata": {
  "kernelspec": {
   "display_name": "Python 2",
   "language": "python",
   "name": "python2"
  },
  "language_info": {
   "codemirror_mode": {
    "name": "ipython",
    "version": 2
   },
   "file_extension": ".py",
   "mimetype": "text/x-python",
   "name": "python",
   "nbconvert_exporter": "python",
   "pygments_lexer": "ipython2",
   "version": "2.7.11"
  }
 },
 "nbformat": 4,
 "nbformat_minor": 0
}
